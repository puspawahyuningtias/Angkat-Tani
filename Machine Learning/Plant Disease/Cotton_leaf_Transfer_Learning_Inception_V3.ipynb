{
  "nbformat": 4,
  "nbformat_minor": 0,
  "metadata": {
    "accelerator": "GPU",
    "colab": {
      "name": "Cotton leaf Transfer Learning Inception V3.ipynb",
      "provenance": [],
      "collapsed_sections": []
    },
    "kernelspec": {
      "display_name": "Python 3",
      "language": "python",
      "name": "python3"
    },
    "language_info": {
      "codemirror_mode": {
        "name": "ipython",
        "version": 3
      },
      "file_extension": ".py",
      "mimetype": "text/x-python",
      "name": "python",
      "nbconvert_exporter": "python",
      "pygments_lexer": "ipython3",
      "version": "3.8.3"
    }
  },
  "cells": [
    {
      "cell_type": "markdown",
      "metadata": {
        "id": "0dUeK3qY6r5v"
      },
      "source": [
        "## Transfer Learning Inception V3 using Keras"
      ]
    },
    {
      "cell_type": "markdown",
      "metadata": {
        "id": "bdGdn7DG6r5z"
      },
      "source": [
        "Please download the dataset from the below url"
      ]
    },
    {
      "cell_type": "code",
      "metadata": {
        "colab": {
          "base_uri": "https://localhost:8080/"
        },
        "id": "A1N3va9W94TA",
        "outputId": "89b5b51f-fbdf-4695-cb19-f4097c2bc35f"
      },
      "source": [
        "from google.colab import drive\n",
        "drive.mount('/content/drive')"
      ],
      "execution_count": 1,
      "outputs": [
        {
          "output_type": "stream",
          "text": [
            "Mounted at /content/drive\n"
          ],
          "name": "stdout"
        }
      ]
    },
    {
      "cell_type": "code",
      "metadata": {
        "colab": {
          "base_uri": "https://localhost:8080/",
          "height": 34
        },
        "id": "aIqjgIHHEfyC",
        "outputId": "9ed69c4b-f80f-4d81-fd6b-09ecf8342d98"
      },
      "source": [
        "import tensorflow as tf\n",
        "tf.__version__"
      ],
      "execution_count": 5,
      "outputs": [
        {
          "output_type": "execute_result",
          "data": {
            "application/vnd.google.colaboratory.intrinsic+json": {
              "type": "string"
            },
            "text/plain": [
              "'2.5.0'"
            ]
          },
          "metadata": {
            "tags": []
          },
          "execution_count": 5
        }
      ]
    },
    {
      "cell_type": "code",
      "metadata": {
        "colab": {
          "base_uri": "https://localhost:8080/"
        },
        "id": "qoo9qGXTEAZK",
        "outputId": "6877fcc6-d9d2-4afc-dc9f-d4fe3a59e493"
      },
      "source": [
        "!nvidia-smi"
      ],
      "execution_count": 6,
      "outputs": [
        {
          "output_type": "stream",
          "text": [
            "Fri May 28 01:02:33 2021       \n",
            "+-----------------------------------------------------------------------------+\n",
            "| NVIDIA-SMI 465.19.01    Driver Version: 460.32.03    CUDA Version: 11.2     |\n",
            "|-------------------------------+----------------------+----------------------+\n",
            "| GPU  Name        Persistence-M| Bus-Id        Disp.A | Volatile Uncorr. ECC |\n",
            "| Fan  Temp  Perf  Pwr:Usage/Cap|         Memory-Usage | GPU-Util  Compute M. |\n",
            "|                               |                      |               MIG M. |\n",
            "|===============================+======================+======================|\n",
            "|   0  Tesla T4            Off  | 00000000:00:04.0 Off |                    0 |\n",
            "| N/A   67C    P8    11W /  70W |      0MiB / 15109MiB |      0%      Default |\n",
            "|                               |                      |                  N/A |\n",
            "+-------------------------------+----------------------+----------------------+\n",
            "                                                                               \n",
            "+-----------------------------------------------------------------------------+\n",
            "| Processes:                                                                  |\n",
            "|  GPU   GI   CI        PID   Type   Process name                  GPU Memory |\n",
            "|        ID   ID                                                   Usage      |\n",
            "|=============================================================================|\n",
            "|  No running processes found                                                 |\n",
            "+-----------------------------------------------------------------------------+\n"
          ],
          "name": "stdout"
        }
      ]
    },
    {
      "cell_type": "code",
      "metadata": {
        "id": "41IXQ00E6r5z"
      },
      "source": [
        "from tensorflow.compat.v1 import ConfigProto\n",
        "from tensorflow.compat.v1 import InteractiveSession\n",
        "\n",
        "config = ConfigProto()\n",
        "config.gpu_options.per_process_gpu_memory_fraction = 0.5\n",
        "config.gpu_options.allow_growth = True\n",
        "session = InteractiveSession(config=config)"
      ],
      "execution_count": 7,
      "outputs": []
    },
    {
      "cell_type": "code",
      "metadata": {
        "id": "fHa29mIe6r50"
      },
      "source": [
        "# import the libraries as shown below\n",
        "\n",
        "from tensorflow.keras.layers import Input, Lambda, Dense, Flatten\n",
        "from tensorflow.keras.models import Model\n",
        "from tensorflow.keras.applications.inception_v3 import InceptionV3\n",
        "#from keras.applications.vgg16 import VGG16\n",
        "from tensorflow.keras.applications.inception_v3 import preprocess_input\n",
        "from tensorflow.keras.preprocessing import image\n",
        "from tensorflow.keras.preprocessing.image import ImageDataGenerator,load_img\n",
        "from tensorflow.keras.models import Sequential\n",
        "import numpy as np\n",
        "from glob import glob\n",
        "#import matplotlib.pyplot as plt"
      ],
      "execution_count": 8,
      "outputs": []
    },
    {
      "cell_type": "code",
      "metadata": {
        "colab": {
          "base_uri": "https://localhost:8080/"
        },
        "id": "cLabBg2tUkgU",
        "outputId": "c740c6ab-6f79-4533-8f03-13112a26617d"
      },
      "source": [
        "import os\n",
        "os.listdir('/content/drive/MyDrive/Dataset/cotton-disease-dataset/Cotton Disease/test')"
      ],
      "execution_count": 3,
      "outputs": [
        {
          "output_type": "execute_result",
          "data": {
            "text/plain": [
              "['diseased cotton leaf',\n",
              " 'diseased cotton plant',\n",
              " 'fresh cotton leaf',\n",
              " 'fresh cotton plant']"
            ]
          },
          "metadata": {
            "tags": []
          },
          "execution_count": 3
        }
      ]
    },
    {
      "cell_type": "code",
      "metadata": {
        "id": "HnOi93wV6r51"
      },
      "source": [
        "# re-size all the images to this\n",
        "IMAGE_SIZE = [224, 224]\n",
        "\n",
        "train_path = '/content/drive/MyDrive/Dataset/cotton-disease-dataset/Cotton Disease/train'\n",
        "valid_path = '/content/drive/MyDrive/Dataset/cotton-disease-dataset/Cotton Disease/test'\n"
      ],
      "execution_count": 2,
      "outputs": []
    },
    {
      "cell_type": "markdown",
      "metadata": {
        "id": "gK9nwReBT1JX"
      },
      "source": [
        "# Data Imbalaced"
      ]
    },
    {
      "cell_type": "code",
      "metadata": {
        "id": "-O4Mt1PXE_70"
      },
      "source": [
        "import pandas as pd\n",
        "from sklearn.utils import shuffle"
      ],
      "execution_count": 4,
      "outputs": []
    },
    {
      "cell_type": "code",
      "metadata": {
        "id": "gEjyae1UFZqx"
      },
      "source": [
        "import seaborn as sns"
      ],
      "execution_count": 5,
      "outputs": []
    },
    {
      "cell_type": "markdown",
      "metadata": {
        "id": "1BvaHq2RN-UE"
      },
      "source": [
        "## Data train Imbalance"
      ]
    },
    {
      "cell_type": "code",
      "metadata": {
        "id": "BF1h6r6IOfxR"
      },
      "source": [
        "def dataframe(ds_leaf, ds_plant, fs_plant, fs_leaf):\n",
        "  disease_leaf = []\n",
        "  target_ds_leaf = []\n",
        "  for i in os.listdir(ds_leaf):\n",
        "    pic = os.path.join(ds_leaf + \"/\", i)\n",
        "    disease_leaf.append(pic)\n",
        "    target_ds_leaf.append(\"disease_leaf\")   \n",
        "\n",
        "  disease_plant = []\n",
        "  target_ds_plant = []\n",
        "  for i in os.listdir(ds_plant):\n",
        "    pic = os.path.join(ds_plant + \"/\", i)\n",
        "    disease_plant.append(pic)\n",
        "    target_ds_plant.append(\"disease_plant\")\n",
        "\n",
        "  fresh_leaf = []\n",
        "  target_fs_leaf = []\n",
        "  for i in os.listdir(fs_leaf):\n",
        "    pic = os.path.join(fs_leaf + \"/\", i)\n",
        "    fresh_leaf.append(pic)\n",
        "    target_fs_leaf.append(\"fresh_leaf\")\n",
        "\n",
        "  fresh_plant = []\n",
        "  target_fs_plant = []\n",
        "  for i in os.listdir(fs_plant):\n",
        "    pic = os.path.join(fs_plant + \"/\", i)\n",
        "    fresh_plant.append(pic)\n",
        "    target_fs_plant.append(\"fresh_plant\")\n",
        "\n",
        "  dleaf = pd.DataFrame()\n",
        "  dleaf[\"image\"] = disease_leaf\n",
        "  dleaf[\"target\"] = target_ds_leaf\n",
        "\n",
        "  dplant = pd.DataFrame()\n",
        "  dplant[\"image\"] = disease_plant\n",
        "  dplant[\"target\"] = target_ds_plant\n",
        "\n",
        "  fleaf = pd.DataFrame()\n",
        "  fleaf[\"image\"] = fresh_leaf\n",
        "  fleaf[\"target\"] = target_fs_leaf\n",
        "\n",
        "  fplant = pd.DataFrame()\n",
        "  fplant[\"image\"] = fresh_plant\n",
        "  fplant[\"target\"] = target_fs_plant\n",
        "\n",
        "  return dleaf, dplant, fleaf, fplant"
      ],
      "execution_count": 9,
      "outputs": []
    },
    {
      "cell_type": "code",
      "metadata": {
        "id": "SObe7NpCPlU5"
      },
      "source": [
        "ds_leaf = '/content/drive/MyDrive/Dataset/cotton-disease-dataset/Cotton Disease/train/diseased cotton leaf'\n",
        "ds_plant = '/content/drive/MyDrive/Dataset/cotton-disease-dataset/Cotton Disease/train/diseased cotton plant'\n",
        "fs_leaf = '/content/drive/MyDrive/Dataset/cotton-disease-dataset/Cotton Disease/train/fresh cotton leaf'\n",
        "fs_plant = '/content/drive/MyDrive/Dataset/cotton-disease-dataset/Cotton Disease/train/fresh cotton plant'"
      ],
      "execution_count": 10,
      "outputs": []
    },
    {
      "cell_type": "code",
      "metadata": {
        "colab": {
          "base_uri": "https://localhost:8080/",
          "height": 204
        },
        "id": "GEAAW-rxPS76",
        "outputId": "62df4f97-145e-4b8f-c5a8-7505038130cb"
      },
      "source": [
        "dleaf, dplant, fleaf, fplant = dataframe(ds_leaf, ds_plant, fs_plant, fs_leaf)\n",
        "data_train = pd.concat([dleaf, dplant, fleaf, fplant], axis = 0, ignore_index = True)\n",
        "data_train = shuffle(data_train)\n",
        "data_train.head()"
      ],
      "execution_count": 11,
      "outputs": [
        {
          "output_type": "execute_result",
          "data": {
            "text/html": [
              "<div>\n",
              "<style scoped>\n",
              "    .dataframe tbody tr th:only-of-type {\n",
              "        vertical-align: middle;\n",
              "    }\n",
              "\n",
              "    .dataframe tbody tr th {\n",
              "        vertical-align: top;\n",
              "    }\n",
              "\n",
              "    .dataframe thead th {\n",
              "        text-align: right;\n",
              "    }\n",
              "</style>\n",
              "<table border=\"1\" class=\"dataframe\">\n",
              "  <thead>\n",
              "    <tr style=\"text-align: right;\">\n",
              "      <th></th>\n",
              "      <th>image</th>\n",
              "      <th>target</th>\n",
              "    </tr>\n",
              "  </thead>\n",
              "  <tbody>\n",
              "    <tr>\n",
              "      <th>538</th>\n",
              "      <td>/content/drive/MyDrive/Dataset/cotton-disease-...</td>\n",
              "      <td>disease_plant</td>\n",
              "    </tr>\n",
              "    <tr>\n",
              "      <th>874</th>\n",
              "      <td>/content/drive/MyDrive/Dataset/cotton-disease-...</td>\n",
              "      <td>disease_plant</td>\n",
              "    </tr>\n",
              "    <tr>\n",
              "      <th>333</th>\n",
              "      <td>/content/drive/MyDrive/Dataset/cotton-disease-...</td>\n",
              "      <td>disease_plant</td>\n",
              "    </tr>\n",
              "    <tr>\n",
              "      <th>659</th>\n",
              "      <td>/content/drive/MyDrive/Dataset/cotton-disease-...</td>\n",
              "      <td>disease_plant</td>\n",
              "    </tr>\n",
              "    <tr>\n",
              "      <th>1914</th>\n",
              "      <td>/content/drive/MyDrive/Dataset/cotton-disease-...</td>\n",
              "      <td>fresh_plant</td>\n",
              "    </tr>\n",
              "  </tbody>\n",
              "</table>\n",
              "</div>"
            ],
            "text/plain": [
              "                                                  image         target\n",
              "538   /content/drive/MyDrive/Dataset/cotton-disease-...  disease_plant\n",
              "874   /content/drive/MyDrive/Dataset/cotton-disease-...  disease_plant\n",
              "333   /content/drive/MyDrive/Dataset/cotton-disease-...  disease_plant\n",
              "659   /content/drive/MyDrive/Dataset/cotton-disease-...  disease_plant\n",
              "1914  /content/drive/MyDrive/Dataset/cotton-disease-...    fresh_plant"
            ]
          },
          "metadata": {
            "tags": []
          },
          "execution_count": 11
        }
      ]
    },
    {
      "cell_type": "code",
      "metadata": {
        "colab": {
          "base_uri": "https://localhost:8080/",
          "height": 350
        },
        "id": "u3xv7fFUPw0i",
        "outputId": "7d4d0239-8e60-437e-b91b-edba55353be0"
      },
      "source": [
        "sns.countplot(data_train[\"target\"])"
      ],
      "execution_count": 12,
      "outputs": [
        {
          "output_type": "stream",
          "text": [
            "/usr/local/lib/python3.7/dist-packages/seaborn/_decorators.py:43: FutureWarning: Pass the following variable as a keyword arg: x. From version 0.12, the only valid positional argument will be `data`, and passing other arguments without an explicit keyword will result in an error or misinterpretation.\n",
            "  FutureWarning\n"
          ],
          "name": "stderr"
        },
        {
          "output_type": "execute_result",
          "data": {
            "text/plain": [
              "<matplotlib.axes._subplots.AxesSubplot at 0x7f703b626b10>"
            ]
          },
          "metadata": {
            "tags": []
          },
          "execution_count": 12
        },
        {
          "output_type": "display_data",
          "data": {
            "image/png": "[encoded data removed]",
            "text/plain": [
              "<Figure size 432x288 with 1 Axes>"
            ]
          },
          "metadata": {
            "tags": [],
            "needs_background": "light"
          }
        }
      ]
    },
    {
      "cell_type": "code",
      "metadata": {
        "colab": {
          "base_uri": "https://localhost:8080/"
        },
        "id": "K7PSudy5Vuer",
        "outputId": "b544ea62-8e9a-4a9d-e30c-128f34b8904a"
      },
      "source": [
        "data_train.target.value_counts()"
      ],
      "execution_count": 21,
      "outputs": [
        {
          "output_type": "execute_result",
          "data": {
            "text/plain": [
              "disease_plant    815\n",
              "fresh_leaf       427\n",
              "fresh_plant      421\n",
              "disease_leaf     288\n",
              "Name: target, dtype: int64"
            ]
          },
          "metadata": {
            "tags": []
          },
          "execution_count": 21
        }
      ]
    },
    {
      "cell_type": "code",
      "metadata": {
        "id": "dTIxcD-oV7Qy"
      },
      "source": [
        "X = data_train.drop('target',axis='columns')\n",
        "y = data_train['target']"
      ],
      "execution_count": 22,
      "outputs": []
    },
    {
      "cell_type": "code",
      "metadata": {
        "colab": {
          "base_uri": "https://localhost:8080/",
          "height": 375
        },
        "id": "XX57DHVkbdrK",
        "outputId": "35007d0d-04dd-44b0-cb19-f0b3a1b8bc23"
      },
      "source": [
        "from imblearn.over_sampling import SMOTE\n",
        "\n",
        "smote = SMOTE(sampling_strategy='minority')\n",
        "X_sm, y_sm = smote.fit_sample(X, y)\n",
        "\n",
        "y_sm.value_counts()"
      ],
      "execution_count": 25,
      "outputs": [
        {
          "output_type": "error",
          "ename": "ValueError",
          "evalue": "ignored",
          "traceback": [
            "\u001b[0;31m---------------------------------------------------------------------------\u001b[0m",
            "\u001b[0;31mValueError\u001b[0m                                Traceback (most recent call last)",
            "\u001b[0;32m<ipython-input-25-6816be3918b4>\u001b[0m in \u001b[0;36m<module>\u001b[0;34m()\u001b[0m\n\u001b[1;32m      2\u001b[0m \u001b[0;34m\u001b[0m\u001b[0m\n\u001b[1;32m      3\u001b[0m \u001b[0msmote\u001b[0m \u001b[0;34m=\u001b[0m \u001b[0mSMOTE\u001b[0m\u001b[0;34m(\u001b[0m\u001b[0msampling_strategy\u001b[0m\u001b[0;34m=\u001b[0m\u001b[0;34m'minority'\u001b[0m\u001b[0;34m)\u001b[0m\u001b[0;34m\u001b[0m\u001b[0;34m\u001b[0m\u001b[0m\n\u001b[0;32m----> 4\u001b[0;31m \u001b[0mX_sm\u001b[0m\u001b[0;34m,\u001b[0m \u001b[0my_sm\u001b[0m \u001b[0;34m=\u001b[0m \u001b[0msmote\u001b[0m\u001b[0;34m.\u001b[0m\u001b[0mfit_sample\u001b[0m\u001b[0;34m(\u001b[0m\u001b[0mX\u001b[0m\u001b[0;34m,\u001b[0m \u001b[0my\u001b[0m\u001b[0;34m)\u001b[0m\u001b[0;34m\u001b[0m\u001b[0;34m\u001b[0m\u001b[0m\n\u001b[0m\u001b[1;32m      5\u001b[0m \u001b[0;34m\u001b[0m\u001b[0m\n\u001b[1;32m      6\u001b[0m \u001b[0my_sm\u001b[0m\u001b[0;34m.\u001b[0m\u001b[0mvalue_counts\u001b[0m\u001b[0;34m(\u001b[0m\u001b[0;34m)\u001b[0m\u001b[0;34m\u001b[0m\u001b[0;34m\u001b[0m\u001b[0m\n",
            "\u001b[0;32m/usr/local/lib/python3.7/dist-packages/imblearn/base.py\u001b[0m in \u001b[0;36mfit_resample\u001b[0;34m(self, X, y)\u001b[0m\n\u001b[1;32m     78\u001b[0m         \u001b[0mself\u001b[0m\u001b[0;34m.\u001b[0m\u001b[0m_deprecate_ratio\u001b[0m\u001b[0;34m(\u001b[0m\u001b[0;34m)\u001b[0m\u001b[0;34m\u001b[0m\u001b[0;34m\u001b[0m\u001b[0m\n\u001b[1;32m     79\u001b[0m \u001b[0;34m\u001b[0m\u001b[0m\n\u001b[0;32m---> 80\u001b[0;31m         \u001b[0mX\u001b[0m\u001b[0;34m,\u001b[0m \u001b[0my\u001b[0m\u001b[0;34m,\u001b[0m \u001b[0mbinarize_y\u001b[0m \u001b[0;34m=\u001b[0m \u001b[0mself\u001b[0m\u001b[0;34m.\u001b[0m\u001b[0m_check_X_y\u001b[0m\u001b[0;34m(\u001b[0m\u001b[0mX\u001b[0m\u001b[0;34m,\u001b[0m \u001b[0my\u001b[0m\u001b[0;34m)\u001b[0m\u001b[0;34m\u001b[0m\u001b[0;34m\u001b[0m\u001b[0m\n\u001b[0m\u001b[1;32m     81\u001b[0m \u001b[0;34m\u001b[0m\u001b[0m\n\u001b[1;32m     82\u001b[0m         self.sampling_strategy_ = check_sampling_strategy(\n",
            "\u001b[0;32m/usr/local/lib/python3.7/dist-packages/imblearn/base.py\u001b[0m in \u001b[0;36m_check_X_y\u001b[0;34m(X, y)\u001b[0m\n\u001b[1;32m    136\u001b[0m     \u001b[0;32mdef\u001b[0m \u001b[0m_check_X_y\u001b[0m\u001b[0;34m(\u001b[0m\u001b[0mX\u001b[0m\u001b[0;34m,\u001b[0m \u001b[0my\u001b[0m\u001b[0;34m)\u001b[0m\u001b[0;34m:\u001b[0m\u001b[0;34m\u001b[0m\u001b[0;34m\u001b[0m\u001b[0m\n\u001b[1;32m    137\u001b[0m         \u001b[0my\u001b[0m\u001b[0;34m,\u001b[0m \u001b[0mbinarize_y\u001b[0m \u001b[0;34m=\u001b[0m \u001b[0mcheck_target_type\u001b[0m\u001b[0;34m(\u001b[0m\u001b[0my\u001b[0m\u001b[0;34m,\u001b[0m \u001b[0mindicate_one_vs_all\u001b[0m\u001b[0;34m=\u001b[0m\u001b[0;32mTrue\u001b[0m\u001b[0;34m)\u001b[0m\u001b[0;34m\u001b[0m\u001b[0;34m\u001b[0m\u001b[0m\n\u001b[0;32m--> 138\u001b[0;31m         \u001b[0mX\u001b[0m\u001b[0;34m,\u001b[0m \u001b[0my\u001b[0m \u001b[0;34m=\u001b[0m \u001b[0mcheck_X_y\u001b[0m\u001b[0;34m(\u001b[0m\u001b[0mX\u001b[0m\u001b[0;34m,\u001b[0m \u001b[0my\u001b[0m\u001b[0;34m,\u001b[0m \u001b[0maccept_sparse\u001b[0m\u001b[0;34m=\u001b[0m\u001b[0;34m[\u001b[0m\u001b[0;34m'csr'\u001b[0m\u001b[0;34m,\u001b[0m \u001b[0;34m'csc'\u001b[0m\u001b[0;34m]\u001b[0m\u001b[0;34m)\u001b[0m\u001b[0;34m\u001b[0m\u001b[0;34m\u001b[0m\u001b[0m\n\u001b[0m\u001b[1;32m    139\u001b[0m         \u001b[0;32mreturn\u001b[0m \u001b[0mX\u001b[0m\u001b[0;34m,\u001b[0m \u001b[0my\u001b[0m\u001b[0;34m,\u001b[0m \u001b[0mbinarize_y\u001b[0m\u001b[0;34m\u001b[0m\u001b[0;34m\u001b[0m\u001b[0m\n\u001b[1;32m    140\u001b[0m \u001b[0;34m\u001b[0m\u001b[0m\n",
            "\u001b[0;32m/usr/local/lib/python3.7/dist-packages/sklearn/utils/validation.py\u001b[0m in \u001b[0;36mcheck_X_y\u001b[0;34m(X, y, accept_sparse, accept_large_sparse, dtype, order, copy, force_all_finite, ensure_2d, allow_nd, multi_output, ensure_min_samples, ensure_min_features, y_numeric, warn_on_dtype, estimator)\u001b[0m\n\u001b[1;32m    753\u001b[0m                     \u001b[0mensure_min_features\u001b[0m\u001b[0;34m=\u001b[0m\u001b[0mensure_min_features\u001b[0m\u001b[0;34m,\u001b[0m\u001b[0;34m\u001b[0m\u001b[0;34m\u001b[0m\u001b[0m\n\u001b[1;32m    754\u001b[0m                     \u001b[0mwarn_on_dtype\u001b[0m\u001b[0;34m=\u001b[0m\u001b[0mwarn_on_dtype\u001b[0m\u001b[0;34m,\u001b[0m\u001b[0;34m\u001b[0m\u001b[0;34m\u001b[0m\u001b[0m\n\u001b[0;32m--> 755\u001b[0;31m                     estimator=estimator)\n\u001b[0m\u001b[1;32m    756\u001b[0m     \u001b[0;32mif\u001b[0m \u001b[0mmulti_output\u001b[0m\u001b[0;34m:\u001b[0m\u001b[0;34m\u001b[0m\u001b[0;34m\u001b[0m\u001b[0m\n\u001b[1;32m    757\u001b[0m         y = check_array(y, 'csr', force_all_finite=True, ensure_2d=False,\n",
            "\u001b[0;32m/usr/local/lib/python3.7/dist-packages/sklearn/utils/validation.py\u001b[0m in \u001b[0;36mcheck_array\u001b[0;34m(array, accept_sparse, accept_large_sparse, dtype, order, copy, force_all_finite, ensure_2d, allow_nd, ensure_min_samples, ensure_min_features, warn_on_dtype, estimator)\u001b[0m\n\u001b[1;32m    529\u001b[0m                     \u001b[0marray\u001b[0m \u001b[0;34m=\u001b[0m \u001b[0marray\u001b[0m\u001b[0;34m.\u001b[0m\u001b[0mastype\u001b[0m\u001b[0;34m(\u001b[0m\u001b[0mdtype\u001b[0m\u001b[0;34m,\u001b[0m \u001b[0mcasting\u001b[0m\u001b[0;34m=\u001b[0m\u001b[0;34m\"unsafe\"\u001b[0m\u001b[0;34m,\u001b[0m \u001b[0mcopy\u001b[0m\u001b[0;34m=\u001b[0m\u001b[0;32mFalse\u001b[0m\u001b[0;34m)\u001b[0m\u001b[0;34m\u001b[0m\u001b[0;34m\u001b[0m\u001b[0m\n\u001b[1;32m    530\u001b[0m                 \u001b[0;32melse\u001b[0m\u001b[0;34m:\u001b[0m\u001b[0;34m\u001b[0m\u001b[0;34m\u001b[0m\u001b[0m\n\u001b[0;32m--> 531\u001b[0;31m                     \u001b[0marray\u001b[0m \u001b[0;34m=\u001b[0m \u001b[0mnp\u001b[0m\u001b[0;34m.\u001b[0m\u001b[0masarray\u001b[0m\u001b[0;34m(\u001b[0m\u001b[0marray\u001b[0m\u001b[0;34m,\u001b[0m \u001b[0morder\u001b[0m\u001b[0;34m=\u001b[0m\u001b[0morder\u001b[0m\u001b[0;34m,\u001b[0m \u001b[0mdtype\u001b[0m\u001b[0;34m=\u001b[0m\u001b[0mdtype\u001b[0m\u001b[0;34m)\u001b[0m\u001b[0;34m\u001b[0m\u001b[0;34m\u001b[0m\u001b[0m\n\u001b[0m\u001b[1;32m    532\u001b[0m             \u001b[0;32mexcept\u001b[0m \u001b[0mComplexWarning\u001b[0m\u001b[0;34m:\u001b[0m\u001b[0;34m\u001b[0m\u001b[0;34m\u001b[0m\u001b[0m\n\u001b[1;32m    533\u001b[0m                 raise ValueError(\"Complex data not supported\\n\"\n",
            "\u001b[0;32m/usr/local/lib/python3.7/dist-packages/numpy/core/_asarray.py\u001b[0m in \u001b[0;36masarray\u001b[0;34m(a, dtype, order)\u001b[0m\n\u001b[1;32m     81\u001b[0m \u001b[0;34m\u001b[0m\u001b[0m\n\u001b[1;32m     82\u001b[0m     \"\"\"\n\u001b[0;32m---> 83\u001b[0;31m     \u001b[0;32mreturn\u001b[0m \u001b[0marray\u001b[0m\u001b[0;34m(\u001b[0m\u001b[0ma\u001b[0m\u001b[0;34m,\u001b[0m \u001b[0mdtype\u001b[0m\u001b[0;34m,\u001b[0m \u001b[0mcopy\u001b[0m\u001b[0;34m=\u001b[0m\u001b[0;32mFalse\u001b[0m\u001b[0;34m,\u001b[0m \u001b[0morder\u001b[0m\u001b[0;34m=\u001b[0m\u001b[0morder\u001b[0m\u001b[0;34m)\u001b[0m\u001b[0;34m\u001b[0m\u001b[0;34m\u001b[0m\u001b[0m\n\u001b[0m\u001b[1;32m     84\u001b[0m \u001b[0;34m\u001b[0m\u001b[0m\n\u001b[1;32m     85\u001b[0m \u001b[0;34m\u001b[0m\u001b[0m\n",
            "\u001b[0;32m/usr/local/lib/python3.7/dist-packages/pandas/core/generic.py\u001b[0m in \u001b[0;36m__array__\u001b[0;34m(self, dtype)\u001b[0m\n\u001b[1;32m   1779\u001b[0m \u001b[0;34m\u001b[0m\u001b[0m\n\u001b[1;32m   1780\u001b[0m     \u001b[0;32mdef\u001b[0m \u001b[0m__array__\u001b[0m\u001b[0;34m(\u001b[0m\u001b[0mself\u001b[0m\u001b[0;34m,\u001b[0m \u001b[0mdtype\u001b[0m\u001b[0;34m=\u001b[0m\u001b[0;32mNone\u001b[0m\u001b[0;34m)\u001b[0m \u001b[0;34m->\u001b[0m \u001b[0mnp\u001b[0m\u001b[0;34m.\u001b[0m\u001b[0mndarray\u001b[0m\u001b[0;34m:\u001b[0m\u001b[0;34m\u001b[0m\u001b[0;34m\u001b[0m\u001b[0m\n\u001b[0;32m-> 1781\u001b[0;31m         \u001b[0;32mreturn\u001b[0m \u001b[0mnp\u001b[0m\u001b[0;34m.\u001b[0m\u001b[0masarray\u001b[0m\u001b[0;34m(\u001b[0m\u001b[0mself\u001b[0m\u001b[0;34m.\u001b[0m\u001b[0m_values\u001b[0m\u001b[0;34m,\u001b[0m \u001b[0mdtype\u001b[0m\u001b[0;34m=\u001b[0m\u001b[0mdtype\u001b[0m\u001b[0;34m)\u001b[0m\u001b[0;34m\u001b[0m\u001b[0;34m\u001b[0m\u001b[0m\n\u001b[0m\u001b[1;32m   1782\u001b[0m \u001b[0;34m\u001b[0m\u001b[0m\n\u001b[1;32m   1783\u001b[0m     \u001b[0;32mdef\u001b[0m \u001b[0m__array_wrap__\u001b[0m\u001b[0;34m(\u001b[0m\u001b[0mself\u001b[0m\u001b[0;34m,\u001b[0m \u001b[0mresult\u001b[0m\u001b[0;34m,\u001b[0m \u001b[0mcontext\u001b[0m\u001b[0;34m=\u001b[0m\u001b[0;32mNone\u001b[0m\u001b[0;34m)\u001b[0m\u001b[0;34m:\u001b[0m\u001b[0;34m\u001b[0m\u001b[0;34m\u001b[0m\u001b[0m\n",
            "\u001b[0;32m/usr/local/lib/python3.7/dist-packages/numpy/core/_asarray.py\u001b[0m in \u001b[0;36masarray\u001b[0;34m(a, dtype, order)\u001b[0m\n\u001b[1;32m     81\u001b[0m \u001b[0;34m\u001b[0m\u001b[0m\n\u001b[1;32m     82\u001b[0m     \"\"\"\n\u001b[0;32m---> 83\u001b[0;31m     \u001b[0;32mreturn\u001b[0m \u001b[0marray\u001b[0m\u001b[0;34m(\u001b[0m\u001b[0ma\u001b[0m\u001b[0;34m,\u001b[0m \u001b[0mdtype\u001b[0m\u001b[0;34m,\u001b[0m \u001b[0mcopy\u001b[0m\u001b[0;34m=\u001b[0m\u001b[0;32mFalse\u001b[0m\u001b[0;34m,\u001b[0m \u001b[0morder\u001b[0m\u001b[0;34m=\u001b[0m\u001b[0morder\u001b[0m\u001b[0;34m)\u001b[0m\u001b[0;34m\u001b[0m\u001b[0;34m\u001b[0m\u001b[0m\n\u001b[0m\u001b[1;32m     84\u001b[0m \u001b[0;34m\u001b[0m\u001b[0m\n\u001b[1;32m     85\u001b[0m \u001b[0;34m\u001b[0m\u001b[0m\n",
            "\u001b[0;31mValueError\u001b[0m: could not convert string to float: '/content/drive/MyDrive/Dataset/cotton-disease-dataset/Cotton Disease/train/diseased cotton plant/dd (6)_iaip.jpg'"
          ]
        }
      ]
    },
    {
      "cell_type": "markdown",
      "metadata": {
        "id": "63P1xryIOCcu"
      },
      "source": [
        "## Data Val Imbalanced"
      ]
    },
    {
      "cell_type": "code",
      "metadata": {
        "colab": {
          "base_uri": "https://localhost:8080/",
          "height": 197
        },
        "id": "c9KJrFTMN6nq",
        "outputId": "234d37e3-2bf4-4859-a659-09747aaae6d7"
      },
      "source": [
        "ds_leaf = '/content/drive/MyDrive/Dataset/cotton-disease-dataset/Cotton Disease/val/diseased cotton leaf'\n",
        "ds_plant = '/content/drive/MyDrive/Dataset/cotton-disease-dataset/Cotton Disease/val/diseased cotton plant'\n",
        "fs_leaf = '/content/drive/MyDrive/Dataset/cotton-disease-dataset/Cotton Disease/val/fresh cotton leaf'\n",
        "fs_plant = '/content/drive/MyDrive/Dataset/cotton-disease-dataset/Cotton Disease/val/fresh cotton plant'\n",
        "\n",
        "dleaf, dplant, fleaf, fplant = dataframe(ds_leaf, ds_plant, fs_plant, fs_leaf)\n",
        "data_val = pd.concat([dleaf, dplant, fleaf, fplant], axis = 0, ignore_index = True)\n",
        "data_val = shuffle(data_val)\n",
        "data_val.head()"
      ],
      "execution_count": 16,
      "outputs": [
        {
          "output_type": "execute_result",
          "data": {
            "text/html": [
              "<div>\n",
              "<style scoped>\n",
              "    .dataframe tbody tr th:only-of-type {\n",
              "        vertical-align: middle;\n",
              "    }\n",
              "\n",
              "    .dataframe tbody tr th {\n",
              "        vertical-align: top;\n",
              "    }\n",
              "\n",
              "    .dataframe thead th {\n",
              "        text-align: right;\n",
              "    }\n",
              "</style>\n",
              "<table border=\"1\" class=\"dataframe\">\n",
              "  <thead>\n",
              "    <tr style=\"text-align: right;\">\n",
              "      <th></th>\n",
              "      <th>image</th>\n",
              "      <th>target</th>\n",
              "    </tr>\n",
              "  </thead>\n",
              "  <tbody>\n",
              "    <tr>\n",
              "      <th>139</th>\n",
              "      <td>/content/drive/MyDrive/Dataset/cotton-disease-...</td>\n",
              "      <td>fresh_leaf</td>\n",
              "    </tr>\n",
              "    <tr>\n",
              "      <th>19</th>\n",
              "      <td>/content/drive/MyDrive/Dataset/cotton-disease-...</td>\n",
              "      <td>disease_leaf</td>\n",
              "    </tr>\n",
              "    <tr>\n",
              "      <th>241</th>\n",
              "      <td>/content/drive/MyDrive/Dataset/cotton-disease-...</td>\n",
              "      <td>fresh_plant</td>\n",
              "    </tr>\n",
              "    <tr>\n",
              "      <th>227</th>\n",
              "      <td>/content/drive/MyDrive/Dataset/cotton-disease-...</td>\n",
              "      <td>fresh_plant</td>\n",
              "    </tr>\n",
              "    <tr>\n",
              "      <th>239</th>\n",
              "      <td>/content/drive/MyDrive/Dataset/cotton-disease-...</td>\n",
              "      <td>fresh_plant</td>\n",
              "    </tr>\n",
              "  </tbody>\n",
              "</table>\n",
              "</div>"
            ],
            "text/plain": [
              "                                                 image        target\n",
              "139  /content/drive/MyDrive/Dataset/cotton-disease-...    fresh_leaf\n",
              "19   /content/drive/MyDrive/Dataset/cotton-disease-...  disease_leaf\n",
              "241  /content/drive/MyDrive/Dataset/cotton-disease-...   fresh_plant\n",
              "227  /content/drive/MyDrive/Dataset/cotton-disease-...   fresh_plant\n",
              "239  /content/drive/MyDrive/Dataset/cotton-disease-...   fresh_plant"
            ]
          },
          "metadata": {
            "tags": []
          },
          "execution_count": 16
        }
      ]
    },
    {
      "cell_type": "code",
      "metadata": {
        "colab": {
          "base_uri": "https://localhost:8080/",
          "height": 350
        },
        "id": "nc-Nj_xHQPvh",
        "outputId": "304d7bab-dfbd-4a07-a3fc-a625f2f85ec5"
      },
      "source": [
        "sns.countplot(data_val[\"target\"])"
      ],
      "execution_count": 17,
      "outputs": [
        {
          "output_type": "stream",
          "text": [
            "/usr/local/lib/python3.7/dist-packages/seaborn/_decorators.py:43: FutureWarning: Pass the following variable as a keyword arg: x. From version 0.12, the only valid positional argument will be `data`, and passing other arguments without an explicit keyword will result in an error or misinterpretation.\n",
            "  FutureWarning\n"
          ],
          "name": "stderr"
        },
        {
          "output_type": "execute_result",
          "data": {
            "text/plain": [
              "<matplotlib.axes._subplots.AxesSubplot at 0x7f703afb7550>"
            ]
          },
          "metadata": {
            "tags": []
          },
          "execution_count": 17
        },
        {
          "output_type": "display_data",
          "data": {
            "image/png": "[encoded data removed]",
            "text/plain": [
              "<Figure size 432x288 with 1 Axes>"
            ]
          },
          "metadata": {
            "tags": [],
            "needs_background": "light"
          }
        }
      ]
    },
    {
      "cell_type": "markdown",
      "metadata": {
        "id": "_kRyGCqITViG"
      },
      "source": [
        "## Data Test Imbalanced"
      ]
    },
    {
      "cell_type": "code",
      "metadata": {
        "colab": {
          "base_uri": "https://localhost:8080/",
          "height": 204
        },
        "id": "eD-j1wx2TVE8",
        "outputId": "4beff62e-c02d-4490-97c3-671b3b8c2bdc"
      },
      "source": [
        "ds_leaf = '/content/drive/MyDrive/Dataset/cotton-disease-dataset/Cotton Disease/test/diseased cotton leaf'\n",
        "ds_plant = '/content/drive/MyDrive/Dataset/cotton-disease-dataset/Cotton Disease/test/diseased cotton plant'\n",
        "fs_leaf = '/content/drive/MyDrive/Dataset/cotton-disease-dataset/Cotton Disease/test/fresh cotton leaf'\n",
        "fs_plant = '/content/drive/MyDrive/Dataset/cotton-disease-dataset/Cotton Disease/test/fresh cotton plant'\n",
        "\n",
        "dleaf, dplant, fleaf, fplant = dataframe(ds_leaf, ds_plant, fs_plant, fs_leaf)\n",
        "data_test = pd.concat([dleaf, dplant, fleaf, fplant], axis = 0, ignore_index = True)\n",
        "data_test = shuffle(data_test)\n",
        "data_test.head()"
      ],
      "execution_count": 18,
      "outputs": [
        {
          "output_type": "execute_result",
          "data": {
            "text/html": [
              "<div>\n",
              "<style scoped>\n",
              "    .dataframe tbody tr th:only-of-type {\n",
              "        vertical-align: middle;\n",
              "    }\n",
              "\n",
              "    .dataframe tbody tr th {\n",
              "        vertical-align: top;\n",
              "    }\n",
              "\n",
              "    .dataframe thead th {\n",
              "        text-align: right;\n",
              "    }\n",
              "</style>\n",
              "<table border=\"1\" class=\"dataframe\">\n",
              "  <thead>\n",
              "    <tr style=\"text-align: right;\">\n",
              "      <th></th>\n",
              "      <th>image</th>\n",
              "      <th>target</th>\n",
              "    </tr>\n",
              "  </thead>\n",
              "  <tbody>\n",
              "    <tr>\n",
              "      <th>69</th>\n",
              "      <td>/content/drive/MyDrive/Dataset/cotton-disease-...</td>\n",
              "      <td>fresh_leaf</td>\n",
              "    </tr>\n",
              "    <tr>\n",
              "      <th>3</th>\n",
              "      <td>/content/drive/MyDrive/Dataset/cotton-disease-...</td>\n",
              "      <td>disease_leaf</td>\n",
              "    </tr>\n",
              "    <tr>\n",
              "      <th>55</th>\n",
              "      <td>/content/drive/MyDrive/Dataset/cotton-disease-...</td>\n",
              "      <td>fresh_leaf</td>\n",
              "    </tr>\n",
              "    <tr>\n",
              "      <th>54</th>\n",
              "      <td>/content/drive/MyDrive/Dataset/cotton-disease-...</td>\n",
              "      <td>fresh_leaf</td>\n",
              "    </tr>\n",
              "    <tr>\n",
              "      <th>35</th>\n",
              "      <td>/content/drive/MyDrive/Dataset/cotton-disease-...</td>\n",
              "      <td>disease_plant</td>\n",
              "    </tr>\n",
              "  </tbody>\n",
              "</table>\n",
              "</div>"
            ],
            "text/plain": [
              "                                                image         target\n",
              "69  /content/drive/MyDrive/Dataset/cotton-disease-...     fresh_leaf\n",
              "3   /content/drive/MyDrive/Dataset/cotton-disease-...   disease_leaf\n",
              "55  /content/drive/MyDrive/Dataset/cotton-disease-...     fresh_leaf\n",
              "54  /content/drive/MyDrive/Dataset/cotton-disease-...     fresh_leaf\n",
              "35  /content/drive/MyDrive/Dataset/cotton-disease-...  disease_plant"
            ]
          },
          "metadata": {
            "tags": []
          },
          "execution_count": 18
        }
      ]
    },
    {
      "cell_type": "code",
      "metadata": {
        "colab": {
          "base_uri": "https://localhost:8080/",
          "height": 350
        },
        "id": "kGsGURLETnI5",
        "outputId": "4c55d40b-122a-4386-d54c-dbff7f7c0d57"
      },
      "source": [
        "sns.countplot(data_test[\"target\"])"
      ],
      "execution_count": 19,
      "outputs": [
        {
          "output_type": "stream",
          "text": [
            "/usr/local/lib/python3.7/dist-packages/seaborn/_decorators.py:43: FutureWarning: Pass the following variable as a keyword arg: x. From version 0.12, the only valid positional argument will be `data`, and passing other arguments without an explicit keyword will result in an error or misinterpretation.\n",
            "  FutureWarning\n"
          ],
          "name": "stderr"
        },
        {
          "output_type": "execute_result",
          "data": {
            "text/plain": [
              "<matplotlib.axes._subplots.AxesSubplot at 0x7f703aecb850>"
            ]
          },
          "metadata": {
            "tags": []
          },
          "execution_count": 19
        },
        {
          "output_type": "display_data",
          "data": {
            "image/png": "[encoded data removed]",
            "text/plain": [
              "<Figure size 432x288 with 1 Axes>"
            ]
          },
          "metadata": {
            "tags": [],
            "needs_background": "light"
          }
        }
      ]
    },
    {
      "cell_type": "markdown",
      "metadata": {
        "id": "9Ydi-D_fT5kY"
      },
      "source": [
        "# Model Building"
      ]
    },
    {
      "cell_type": "code",
      "metadata": {
        "id": "1_cNilA-6r52"
      },
      "source": [
        "# Import the InceptionV3 library as shown below and add preprocessing layer to the front of InceptionV3\n",
        "# Here we will be using imagenet weights\n",
        "\n",
        "inception = InceptionV3(input_shape=IMAGE_SIZE + [3], weights='imagenet', include_top=False)\n",
        "\n",
        "\n"
      ],
      "execution_count": 10,
      "outputs": []
    },
    {
      "cell_type": "code",
      "metadata": {
        "id": "kz1UazBL6r53"
      },
      "source": [
        "# don't train existing weights\n",
        "for layer in inception.layers:\n",
        "    layer.trainable = False"
      ],
      "execution_count": 11,
      "outputs": []
    },
    {
      "cell_type": "code",
      "metadata": {
        "colab": {
          "base_uri": "https://localhost:8080/"
        },
        "id": "xKDmCoJtBOg5",
        "outputId": "1b57b841-a34c-434e-9a6d-c6f18d85b50d"
      },
      "source": [
        "glob('/content/drive/MyDrive/Dataset/cotton-disease-dataset/Cotton Disease/train/*')"
      ],
      "execution_count": 12,
      "outputs": [
        {
          "output_type": "execute_result",
          "data": {
            "text/plain": [
              "['/content/drive/MyDrive/Dataset/cotton-disease-dataset/Cotton Disease/train/diseased cotton leaf',\n",
              " '/content/drive/MyDrive/Dataset/cotton-disease-dataset/Cotton Disease/train/diseased cotton plant',\n",
              " '/content/drive/MyDrive/Dataset/cotton-disease-dataset/Cotton Disease/train/fresh cotton leaf',\n",
              " '/content/drive/MyDrive/Dataset/cotton-disease-dataset/Cotton Disease/train/fresh cotton plant']"
            ]
          },
          "metadata": {
            "tags": []
          },
          "execution_count": 12
        }
      ]
    },
    {
      "cell_type": "code",
      "metadata": {
        "id": "WbGVME8j6r53"
      },
      "source": [
        "  # useful for getting number of output classes\n",
        "folders = glob('/content/drive/MyDrive/Dataset/cotton-disease-dataset/Cotton Disease/train/*')"
      ],
      "execution_count": 13,
      "outputs": []
    },
    {
      "cell_type": "code",
      "metadata": {
        "id": "EjWqLr696r54"
      },
      "source": [
        "# our layers - you can add more if you want\n",
        "x = Flatten()(inception.output)"
      ],
      "execution_count": 14,
      "outputs": []
    },
    {
      "cell_type": "code",
      "metadata": {
        "id": "Fo-KCX2n6r54"
      },
      "source": [
        "prediction = Dense(len(folders), activation='softmax')(x)\n",
        "\n",
        "# create a model object\n",
        "model = Model(inputs=inception.input, outputs=prediction)"
      ],
      "execution_count": 15,
      "outputs": []
    },
    {
      "cell_type": "code",
      "metadata": {
        "colab": {
          "base_uri": "https://localhost:8080/"
        },
        "id": "meFJBCr-6r55",
        "outputId": "dce54607-2518-48a8-f56d-5d55bb1254aa"
      },
      "source": [
        "\n",
        "# view the structure of the model\n",
        "model.summary()\n"
      ],
      "execution_count": 16,
      "outputs": [
        {
          "output_type": "stream",
          "text": [
            "Model: \"model\"\n",
            "__________________________________________________________________________________________________\n",
            "Layer (type)                    Output Shape         Param #     Connected to                     \n",
            "==================================================================================================\n",
            "input_1 (InputLayer)            [(None, 224, 224, 3) 0                                            \n",
            "__________________________________________________________________________________________________\n",
            "conv2d (Conv2D)                 (None, 111, 111, 32) 864         input_1[0][0]                    \n",
            "__________________________________________________________________________________________________\n",
            "batch_normalization (BatchNorma (None, 111, 111, 32) 96          conv2d[0][0]                     \n",
            "__________________________________________________________________________________________________\n",
            "activation (Activation)         (None, 111, 111, 32) 0           batch_normalization[0][0]        \n",
            "__________________________________________________________________________________________________\n",
            "conv2d_1 (Conv2D)               (None, 109, 109, 32) 9216        activation[0][0]                 \n",
            "__________________________________________________________________________________________________\n",
            "batch_normalization_1 (BatchNor (None, 109, 109, 32) 96          conv2d_1[0][0]                   \n",
            "__________________________________________________________________________________________________\n",
            "activation_1 (Activation)       (None, 109, 109, 32) 0           batch_normalization_1[0][0]      \n",
            "__________________________________________________________________________________________________\n",
            "conv2d_2 (Conv2D)               (None, 109, 109, 64) 18432       activation_1[0][0]               \n",
            "__________________________________________________________________________________________________\n",
            "batch_normalization_2 (BatchNor (None, 109, 109, 64) 192         conv2d_2[0][0]                   \n",
            "__________________________________________________________________________________________________\n",
            "activation_2 (Activation)       (None, 109, 109, 64) 0           batch_normalization_2[0][0]      \n",
            "__________________________________________________________________________________________________\n",
            "max_pooling2d (MaxPooling2D)    (None, 54, 54, 64)   0           activation_2[0][0]               \n",
            "__________________________________________________________________________________________________\n",
            "conv2d_3 (Conv2D)               (None, 54, 54, 80)   5120        max_pooling2d[0][0]              \n",
            "__________________________________________________________________________________________________\n",
            "batch_normalization_3 (BatchNor (None, 54, 54, 80)   240         conv2d_3[0][0]                   \n",
            "__________________________________________________________________________________________________\n",
            "activation_3 (Activation)       (None, 54, 54, 80)   0           batch_normalization_3[0][0]      \n",
            "__________________________________________________________________________________________________\n",
            "conv2d_4 (Conv2D)               (None, 52, 52, 192)  138240      activation_3[0][0]               \n",
            "__________________________________________________________________________________________________\n",
            "batch_normalization_4 (BatchNor (None, 52, 52, 192)  576         conv2d_4[0][0]                   \n",
            "__________________________________________________________________________________________________\n",
            "activation_4 (Activation)       (None, 52, 52, 192)  0           batch_normalization_4[0][0]      \n",
            "__________________________________________________________________________________________________\n",
            "max_pooling2d_1 (MaxPooling2D)  (None, 25, 25, 192)  0           activation_4[0][0]               \n",
            "__________________________________________________________________________________________________\n",
            "conv2d_8 (Conv2D)               (None, 25, 25, 64)   12288       max_pooling2d_1[0][0]            \n",
            "__________________________________________________________________________________________________\n",
            "batch_normalization_8 (BatchNor (None, 25, 25, 64)   192         conv2d_8[0][0]                   \n",
            "__________________________________________________________________________________________________\n",
            "activation_8 (Activation)       (None, 25, 25, 64)   0           batch_normalization_8[0][0]      \n",
            "__________________________________________________________________________________________________\n",
            "conv2d_6 (Conv2D)               (None, 25, 25, 48)   9216        max_pooling2d_1[0][0]            \n",
            "__________________________________________________________________________________________________\n",
            "conv2d_9 (Conv2D)               (None, 25, 25, 96)   55296       activation_8[0][0]               \n",
            "__________________________________________________________________________________________________\n",
            "batch_normalization_6 (BatchNor (None, 25, 25, 48)   144         conv2d_6[0][0]                   \n",
            "__________________________________________________________________________________________________\n",
            "batch_normalization_9 (BatchNor (None, 25, 25, 96)   288         conv2d_9[0][0]                   \n",
            "__________________________________________________________________________________________________\n",
            "activation_6 (Activation)       (None, 25, 25, 48)   0           batch_normalization_6[0][0]      \n",
            "__________________________________________________________________________________________________\n",
            "activation_9 (Activation)       (None, 25, 25, 96)   0           batch_normalization_9[0][0]      \n",
            "__________________________________________________________________________________________________\n",
            "average_pooling2d (AveragePooli (None, 25, 25, 192)  0           max_pooling2d_1[0][0]            \n",
            "__________________________________________________________________________________________________\n",
            "conv2d_5 (Conv2D)               (None, 25, 25, 64)   12288       max_pooling2d_1[0][0]            \n",
            "__________________________________________________________________________________________________\n",
            "conv2d_7 (Conv2D)               (None, 25, 25, 64)   76800       activation_6[0][0]               \n",
            "__________________________________________________________________________________________________\n",
            "conv2d_10 (Conv2D)              (None, 25, 25, 96)   82944       activation_9[0][0]               \n",
            "__________________________________________________________________________________________________\n",
            "conv2d_11 (Conv2D)              (None, 25, 25, 32)   6144        average_pooling2d[0][0]          \n",
            "__________________________________________________________________________________________________\n",
            "batch_normalization_5 (BatchNor (None, 25, 25, 64)   192         conv2d_5[0][0]                   \n",
            "__________________________________________________________________________________________________\n",
            "batch_normalization_7 (BatchNor (None, 25, 25, 64)   192         conv2d_7[0][0]                   \n",
            "__________________________________________________________________________________________________\n",
            "batch_normalization_10 (BatchNo (None, 25, 25, 96)   288         conv2d_10[0][0]                  \n",
            "__________________________________________________________________________________________________\n",
            "batch_normalization_11 (BatchNo (None, 25, 25, 32)   96          conv2d_11[0][0]                  \n",
            "__________________________________________________________________________________________________\n",
            "activation_5 (Activation)       (None, 25, 25, 64)   0           batch_normalization_5[0][0]      \n",
            "__________________________________________________________________________________________________\n",
            "activation_7 (Activation)       (None, 25, 25, 64)   0           batch_normalization_7[0][0]      \n",
            "__________________________________________________________________________________________________\n",
            "activation_10 (Activation)      (None, 25, 25, 96)   0           batch_normalization_10[0][0]     \n",
            "__________________________________________________________________________________________________\n",
            "activation_11 (Activation)      (None, 25, 25, 32)   0           batch_normalization_11[0][0]     \n",
            "__________________________________________________________________________________________________\n",
            "mixed0 (Concatenate)            (None, 25, 25, 256)  0           activation_5[0][0]               \n",
            "                                                                 activation_7[0][0]               \n",
            "                                                                 activation_10[0][0]              \n",
            "                                                                 activation_11[0][0]              \n",
            "__________________________________________________________________________________________________\n",
            "conv2d_15 (Conv2D)              (None, 25, 25, 64)   16384       mixed0[0][0]                     \n",
            "__________________________________________________________________________________________________\n",
            "batch_normalization_15 (BatchNo (None, 25, 25, 64)   192         conv2d_15[0][0]                  \n",
            "__________________________________________________________________________________________________\n",
            "activation_15 (Activation)      (None, 25, 25, 64)   0           batch_normalization_15[0][0]     \n",
            "__________________________________________________________________________________________________\n",
            "conv2d_13 (Conv2D)              (None, 25, 25, 48)   12288       mixed0[0][0]                     \n",
            "__________________________________________________________________________________________________\n",
            "conv2d_16 (Conv2D)              (None, 25, 25, 96)   55296       activation_15[0][0]              \n",
            "__________________________________________________________________________________________________\n",
            "batch_normalization_13 (BatchNo (None, 25, 25, 48)   144         conv2d_13[0][0]                  \n",
            "__________________________________________________________________________________________________\n",
            "batch_normalization_16 (BatchNo (None, 25, 25, 96)   288         conv2d_16[0][0]                  \n",
            "__________________________________________________________________________________________________\n",
            "activation_13 (Activation)      (None, 25, 25, 48)   0           batch_normalization_13[0][0]     \n",
            "__________________________________________________________________________________________________\n",
            "activation_16 (Activation)      (None, 25, 25, 96)   0           batch_normalization_16[0][0]     \n",
            "__________________________________________________________________________________________________\n",
            "average_pooling2d_1 (AveragePoo (None, 25, 25, 256)  0           mixed0[0][0]                     \n",
            "__________________________________________________________________________________________________\n",
            "conv2d_12 (Conv2D)              (None, 25, 25, 64)   16384       mixed0[0][0]                     \n",
            "__________________________________________________________________________________________________\n",
            "conv2d_14 (Conv2D)              (None, 25, 25, 64)   76800       activation_13[0][0]              \n",
            "__________________________________________________________________________________________________\n",
            "conv2d_17 (Conv2D)              (None, 25, 25, 96)   82944       activation_16[0][0]              \n",
            "__________________________________________________________________________________________________\n",
            "conv2d_18 (Conv2D)              (None, 25, 25, 64)   16384       average_pooling2d_1[0][0]        \n",
            "__________________________________________________________________________________________________\n",
            "batch_normalization_12 (BatchNo (None, 25, 25, 64)   192         conv2d_12[0][0]                  \n",
            "__________________________________________________________________________________________________\n",
            "batch_normalization_14 (BatchNo (None, 25, 25, 64)   192         conv2d_14[0][0]                  \n",
            "__________________________________________________________________________________________________\n",
            "batch_normalization_17 (BatchNo (None, 25, 25, 96)   288         conv2d_17[0][0]                  \n",
            "__________________________________________________________________________________________________\n",
            "batch_normalization_18 (BatchNo (None, 25, 25, 64)   192         conv2d_18[0][0]                  \n",
            "__________________________________________________________________________________________________\n",
            "activation_12 (Activation)      (None, 25, 25, 64)   0           batch_normalization_12[0][0]     \n",
            "__________________________________________________________________________________________________\n",
            "activation_14 (Activation)      (None, 25, 25, 64)   0           batch_normalization_14[0][0]     \n",
            "__________________________________________________________________________________________________\n",
            "activation_17 (Activation)      (None, 25, 25, 96)   0           batch_normalization_17[0][0]     \n",
            "__________________________________________________________________________________________________\n",
            "activation_18 (Activation)      (None, 25, 25, 64)   0           batch_normalization_18[0][0]     \n",
            "__________________________________________________________________________________________________\n",
            "mixed1 (Concatenate)            (None, 25, 25, 288)  0           activation_12[0][0]              \n",
            "                                                                 activation_14[0][0]              \n",
            "                                                                 activation_17[0][0]              \n",
            "                                                                 activation_18[0][0]              \n",
            "__________________________________________________________________________________________________\n",
            "conv2d_22 (Conv2D)              (None, 25, 25, 64)   18432       mixed1[0][0]                     \n",
            "__________________________________________________________________________________________________\n",
            "batch_normalization_22 (BatchNo (None, 25, 25, 64)   192         conv2d_22[0][0]                  \n",
            "__________________________________________________________________________________________________\n",
            "activation_22 (Activation)      (None, 25, 25, 64)   0           batch_normalization_22[0][0]     \n",
            "__________________________________________________________________________________________________\n",
            "conv2d_20 (Conv2D)              (None, 25, 25, 48)   13824       mixed1[0][0]                     \n",
            "__________________________________________________________________________________________________\n",
            "conv2d_23 (Conv2D)              (None, 25, 25, 96)   55296       activation_22[0][0]              \n",
            "__________________________________________________________________________________________________\n",
            "batch_normalization_20 (BatchNo (None, 25, 25, 48)   144         conv2d_20[0][0]                  \n",
            "__________________________________________________________________________________________________\n",
            "batch_normalization_23 (BatchNo (None, 25, 25, 96)   288         conv2d_23[0][0]                  \n",
            "__________________________________________________________________________________________________\n",
            "activation_20 (Activation)      (None, 25, 25, 48)   0           batch_normalization_20[0][0]     \n",
            "__________________________________________________________________________________________________\n",
            "activation_23 (Activation)      (None, 25, 25, 96)   0           batch_normalization_23[0][0]     \n",
            "__________________________________________________________________________________________________\n",
            "average_pooling2d_2 (AveragePoo (None, 25, 25, 288)  0           mixed1[0][0]                     \n",
            "__________________________________________________________________________________________________\n",
            "conv2d_19 (Conv2D)              (None, 25, 25, 64)   18432       mixed1[0][0]                     \n",
            "__________________________________________________________________________________________________\n",
            "conv2d_21 (Conv2D)              (None, 25, 25, 64)   76800       activation_20[0][0]              \n",
            "__________________________________________________________________________________________________\n",
            "conv2d_24 (Conv2D)              (None, 25, 25, 96)   82944       activation_23[0][0]              \n",
            "__________________________________________________________________________________________________\n",
            "conv2d_25 (Conv2D)              (None, 25, 25, 64)   18432       average_pooling2d_2[0][0]        \n",
            "__________________________________________________________________________________________________\n",
            "batch_normalization_19 (BatchNo (None, 25, 25, 64)   192         conv2d_19[0][0]                  \n",
            "__________________________________________________________________________________________________\n",
            "batch_normalization_21 (BatchNo (None, 25, 25, 64)   192         conv2d_21[0][0]                  \n",
            "__________________________________________________________________________________________________\n",
            "batch_normalization_24 (BatchNo (None, 25, 25, 96)   288         conv2d_24[0][0]                  \n",
            "__________________________________________________________________________________________________\n",
            "batch_normalization_25 (BatchNo (None, 25, 25, 64)   192         conv2d_25[0][0]                  \n",
            "__________________________________________________________________________________________________\n",
            "activation_19 (Activation)      (None, 25, 25, 64)   0           batch_normalization_19[0][0]     \n",
            "__________________________________________________________________________________________________\n",
            "activation_21 (Activation)      (None, 25, 25, 64)   0           batch_normalization_21[0][0]     \n",
            "__________________________________________________________________________________________________\n",
            "activation_24 (Activation)      (None, 25, 25, 96)   0           batch_normalization_24[0][0]     \n",
            "__________________________________________________________________________________________________\n",
            "activation_25 (Activation)      (None, 25, 25, 64)   0           batch_normalization_25[0][0]     \n",
            "__________________________________________________________________________________________________\n",
            "mixed2 (Concatenate)            (None, 25, 25, 288)  0           activation_19[0][0]              \n",
            "                                                                 activation_21[0][0]              \n",
            "                                                                 activation_24[0][0]              \n",
            "                                                                 activation_25[0][0]              \n",
            "__________________________________________________________________________________________________\n",
            "conv2d_27 (Conv2D)              (None, 25, 25, 64)   18432       mixed2[0][0]                     \n",
            "__________________________________________________________________________________________________\n",
            "batch_normalization_27 (BatchNo (None, 25, 25, 64)   192         conv2d_27[0][0]                  \n",
            "__________________________________________________________________________________________________\n",
            "activation_27 (Activation)      (None, 25, 25, 64)   0           batch_normalization_27[0][0]     \n",
            "__________________________________________________________________________________________________\n",
            "conv2d_28 (Conv2D)              (None, 25, 25, 96)   55296       activation_27[0][0]              \n",
            "__________________________________________________________________________________________________\n",
            "batch_normalization_28 (BatchNo (None, 25, 25, 96)   288         conv2d_28[0][0]                  \n",
            "__________________________________________________________________________________________________\n",
            "activation_28 (Activation)      (None, 25, 25, 96)   0           batch_normalization_28[0][0]     \n",
            "__________________________________________________________________________________________________\n",
            "conv2d_26 (Conv2D)              (None, 12, 12, 384)  995328      mixed2[0][0]                     \n",
            "__________________________________________________________________________________________________\n",
            "conv2d_29 (Conv2D)              (None, 12, 12, 96)   82944       activation_28[0][0]              \n",
            "__________________________________________________________________________________________________\n",
            "batch_normalization_26 (BatchNo (None, 12, 12, 384)  1152        conv2d_26[0][0]                  \n",
            "__________________________________________________________________________________________________\n",
            "batch_normalization_29 (BatchNo (None, 12, 12, 96)   288         conv2d_29[0][0]                  \n",
            "__________________________________________________________________________________________________\n",
            "activation_26 (Activation)      (None, 12, 12, 384)  0           batch_normalization_26[0][0]     \n",
            "__________________________________________________________________________________________________\n",
            "activation_29 (Activation)      (None, 12, 12, 96)   0           batch_normalization_29[0][0]     \n",
            "__________________________________________________________________________________________________\n",
            "max_pooling2d_2 (MaxPooling2D)  (None, 12, 12, 288)  0           mixed2[0][0]                     \n",
            "__________________________________________________________________________________________________\n",
            "mixed3 (Concatenate)            (None, 12, 12, 768)  0           activation_26[0][0]              \n",
            "                                                                 activation_29[0][0]              \n",
            "                                                                 max_pooling2d_2[0][0]            \n",
            "__________________________________________________________________________________________________\n",
            "conv2d_34 (Conv2D)              (None, 12, 12, 128)  98304       mixed3[0][0]                     \n",
            "__________________________________________________________________________________________________\n",
            "batch_normalization_34 (BatchNo (None, 12, 12, 128)  384         conv2d_34[0][0]                  \n",
            "__________________________________________________________________________________________________\n",
            "activation_34 (Activation)      (None, 12, 12, 128)  0           batch_normalization_34[0][0]     \n",
            "__________________________________________________________________________________________________\n",
            "conv2d_35 (Conv2D)              (None, 12, 12, 128)  114688      activation_34[0][0]              \n",
            "__________________________________________________________________________________________________\n",
            "batch_normalization_35 (BatchNo (None, 12, 12, 128)  384         conv2d_35[0][0]                  \n",
            "__________________________________________________________________________________________________\n",
            "activation_35 (Activation)      (None, 12, 12, 128)  0           batch_normalization_35[0][0]     \n",
            "__________________________________________________________________________________________________\n",
            "conv2d_31 (Conv2D)              (None, 12, 12, 128)  98304       mixed3[0][0]                     \n",
            "__________________________________________________________________________________________________\n",
            "conv2d_36 (Conv2D)              (None, 12, 12, 128)  114688      activation_35[0][0]              \n",
            "__________________________________________________________________________________________________\n",
            "batch_normalization_31 (BatchNo (None, 12, 12, 128)  384         conv2d_31[0][0]                  \n",
            "__________________________________________________________________________________________________\n",
            "batch_normalization_36 (BatchNo (None, 12, 12, 128)  384         conv2d_36[0][0]                  \n",
            "__________________________________________________________________________________________________\n",
            "activation_31 (Activation)      (None, 12, 12, 128)  0           batch_normalization_31[0][0]     \n",
            "__________________________________________________________________________________________________\n",
            "activation_36 (Activation)      (None, 12, 12, 128)  0           batch_normalization_36[0][0]     \n",
            "__________________________________________________________________________________________________\n",
            "conv2d_32 (Conv2D)              (None, 12, 12, 128)  114688      activation_31[0][0]              \n",
            "__________________________________________________________________________________________________\n",
            "conv2d_37 (Conv2D)              (None, 12, 12, 128)  114688      activation_36[0][0]              \n",
            "__________________________________________________________________________________________________\n",
            "batch_normalization_32 (BatchNo (None, 12, 12, 128)  384         conv2d_32[0][0]                  \n",
            "__________________________________________________________________________________________________\n",
            "batch_normalization_37 (BatchNo (None, 12, 12, 128)  384         conv2d_37[0][0]                  \n",
            "__________________________________________________________________________________________________\n",
            "activation_32 (Activation)      (None, 12, 12, 128)  0           batch_normalization_32[0][0]     \n",
            "__________________________________________________________________________________________________\n",
            "activation_37 (Activation)      (None, 12, 12, 128)  0           batch_normalization_37[0][0]     \n",
            "__________________________________________________________________________________________________\n",
            "average_pooling2d_3 (AveragePoo (None, 12, 12, 768)  0           mixed3[0][0]                     \n",
            "__________________________________________________________________________________________________\n",
            "conv2d_30 (Conv2D)              (None, 12, 12, 192)  147456      mixed3[0][0]                     \n",
            "__________________________________________________________________________________________________\n",
            "conv2d_33 (Conv2D)              (None, 12, 12, 192)  172032      activation_32[0][0]              \n",
            "__________________________________________________________________________________________________\n",
            "conv2d_38 (Conv2D)              (None, 12, 12, 192)  172032      activation_37[0][0]              \n",
            "__________________________________________________________________________________________________\n",
            "conv2d_39 (Conv2D)              (None, 12, 12, 192)  147456      average_pooling2d_3[0][0]        \n",
            "__________________________________________________________________________________________________\n",
            "batch_normalization_30 (BatchNo (None, 12, 12, 192)  576         conv2d_30[0][0]                  \n",
            "__________________________________________________________________________________________________\n",
            "batch_normalization_33 (BatchNo (None, 12, 12, 192)  576         conv2d_33[0][0]                  \n",
            "__________________________________________________________________________________________________\n",
            "batch_normalization_38 (BatchNo (None, 12, 12, 192)  576         conv2d_38[0][0]                  \n",
            "__________________________________________________________________________________________________\n",
            "batch_normalization_39 (BatchNo (None, 12, 12, 192)  576         conv2d_39[0][0]                  \n",
            "__________________________________________________________________________________________________\n",
            "activation_30 (Activation)      (None, 12, 12, 192)  0           batch_normalization_30[0][0]     \n",
            "__________________________________________________________________________________________________\n",
            "activation_33 (Activation)      (None, 12, 12, 192)  0           batch_normalization_33[0][0]     \n",
            "__________________________________________________________________________________________________\n",
            "activation_38 (Activation)      (None, 12, 12, 192)  0           batch_normalization_38[0][0]     \n",
            "__________________________________________________________________________________________________\n",
            "activation_39 (Activation)      (None, 12, 12, 192)  0           batch_normalization_39[0][0]     \n",
            "__________________________________________________________________________________________________\n",
            "mixed4 (Concatenate)            (None, 12, 12, 768)  0           activation_30[0][0]              \n",
            "                                                                 activation_33[0][0]              \n",
            "                                                                 activation_38[0][0]              \n",
            "                                                                 activation_39[0][0]              \n",
            "__________________________________________________________________________________________________\n",
            "conv2d_44 (Conv2D)              (None, 12, 12, 160)  122880      mixed4[0][0]                     \n",
            "__________________________________________________________________________________________________\n",
            "batch_normalization_44 (BatchNo (None, 12, 12, 160)  480         conv2d_44[0][0]                  \n",
            "__________________________________________________________________________________________________\n",
            "activation_44 (Activation)      (None, 12, 12, 160)  0           batch_normalization_44[0][0]     \n",
            "__________________________________________________________________________________________________\n",
            "conv2d_45 (Conv2D)              (None, 12, 12, 160)  179200      activation_44[0][0]              \n",
            "__________________________________________________________________________________________________\n",
            "batch_normalization_45 (BatchNo (None, 12, 12, 160)  480         conv2d_45[0][0]                  \n",
            "__________________________________________________________________________________________________\n",
            "activation_45 (Activation)      (None, 12, 12, 160)  0           batch_normalization_45[0][0]     \n",
            "__________________________________________________________________________________________________\n",
            "conv2d_41 (Conv2D)              (None, 12, 12, 160)  122880      mixed4[0][0]                     \n",
            "__________________________________________________________________________________________________\n",
            "conv2d_46 (Conv2D)              (None, 12, 12, 160)  179200      activation_45[0][0]              \n",
            "__________________________________________________________________________________________________\n",
            "batch_normalization_41 (BatchNo (None, 12, 12, 160)  480         conv2d_41[0][0]                  \n",
            "__________________________________________________________________________________________________\n",
            "batch_normalization_46 (BatchNo (None, 12, 12, 160)  480         conv2d_46[0][0]                  \n",
            "__________________________________________________________________________________________________\n",
            "activation_41 (Activation)      (None, 12, 12, 160)  0           batch_normalization_41[0][0]     \n",
            "__________________________________________________________________________________________________\n",
            "activation_46 (Activation)      (None, 12, 12, 160)  0           batch_normalization_46[0][0]     \n",
            "__________________________________________________________________________________________________\n",
            "conv2d_42 (Conv2D)              (None, 12, 12, 160)  179200      activation_41[0][0]              \n",
            "__________________________________________________________________________________________________\n",
            "conv2d_47 (Conv2D)              (None, 12, 12, 160)  179200      activation_46[0][0]              \n",
            "__________________________________________________________________________________________________\n",
            "batch_normalization_42 (BatchNo (None, 12, 12, 160)  480         conv2d_42[0][0]                  \n",
            "__________________________________________________________________________________________________\n",
            "batch_normalization_47 (BatchNo (None, 12, 12, 160)  480         conv2d_47[0][0]                  \n",
            "__________________________________________________________________________________________________\n",
            "activation_42 (Activation)      (None, 12, 12, 160)  0           batch_normalization_42[0][0]     \n",
            "__________________________________________________________________________________________________\n",
            "activation_47 (Activation)      (None, 12, 12, 160)  0           batch_normalization_47[0][0]     \n",
            "__________________________________________________________________________________________________\n",
            "average_pooling2d_4 (AveragePoo (None, 12, 12, 768)  0           mixed4[0][0]                     \n",
            "__________________________________________________________________________________________________\n",
            "conv2d_40 (Conv2D)              (None, 12, 12, 192)  147456      mixed4[0][0]                     \n",
            "__________________________________________________________________________________________________\n",
            "conv2d_43 (Conv2D)              (None, 12, 12, 192)  215040      activation_42[0][0]              \n",
            "__________________________________________________________________________________________________\n",
            "conv2d_48 (Conv2D)              (None, 12, 12, 192)  215040      activation_47[0][0]              \n",
            "__________________________________________________________________________________________________\n",
            "conv2d_49 (Conv2D)              (None, 12, 12, 192)  147456      average_pooling2d_4[0][0]        \n",
            "__________________________________________________________________________________________________\n",
            "batch_normalization_40 (BatchNo (None, 12, 12, 192)  576         conv2d_40[0][0]                  \n",
            "__________________________________________________________________________________________________\n",
            "batch_normalization_43 (BatchNo (None, 12, 12, 192)  576         conv2d_43[0][0]                  \n",
            "__________________________________________________________________________________________________\n",
            "batch_normalization_48 (BatchNo (None, 12, 12, 192)  576         conv2d_48[0][0]                  \n",
            "__________________________________________________________________________________________________\n",
            "batch_normalization_49 (BatchNo (None, 12, 12, 192)  576         conv2d_49[0][0]                  \n",
            "__________________________________________________________________________________________________\n",
            "activation_40 (Activation)      (None, 12, 12, 192)  0           batch_normalization_40[0][0]     \n",
            "__________________________________________________________________________________________________\n",
            "activation_43 (Activation)      (None, 12, 12, 192)  0           batch_normalization_43[0][0]     \n",
            "__________________________________________________________________________________________________\n",
            "activation_48 (Activation)      (None, 12, 12, 192)  0           batch_normalization_48[0][0]     \n",
            "__________________________________________________________________________________________________\n",
            "activation_49 (Activation)      (None, 12, 12, 192)  0           batch_normalization_49[0][0]     \n",
            "__________________________________________________________________________________________________\n",
            "mixed5 (Concatenate)            (None, 12, 12, 768)  0           activation_40[0][0]              \n",
            "                                                                 activation_43[0][0]              \n",
            "                                                                 activation_48[0][0]              \n",
            "                                                                 activation_49[0][0]              \n",
            "__________________________________________________________________________________________________\n",
            "conv2d_54 (Conv2D)              (None, 12, 12, 160)  122880      mixed5[0][0]                     \n",
            "__________________________________________________________________________________________________\n",
            "batch_normalization_54 (BatchNo (None, 12, 12, 160)  480         conv2d_54[0][0]                  \n",
            "__________________________________________________________________________________________________\n",
            "activation_54 (Activation)      (None, 12, 12, 160)  0           batch_normalization_54[0][0]     \n",
            "__________________________________________________________________________________________________\n",
            "conv2d_55 (Conv2D)              (None, 12, 12, 160)  179200      activation_54[0][0]              \n",
            "__________________________________________________________________________________________________\n",
            "batch_normalization_55 (BatchNo (None, 12, 12, 160)  480         conv2d_55[0][0]                  \n",
            "__________________________________________________________________________________________________\n",
            "activation_55 (Activation)      (None, 12, 12, 160)  0           batch_normalization_55[0][0]     \n",
            "__________________________________________________________________________________________________\n",
            "conv2d_51 (Conv2D)              (None, 12, 12, 160)  122880      mixed5[0][0]                     \n",
            "__________________________________________________________________________________________________\n",
            "conv2d_56 (Conv2D)              (None, 12, 12, 160)  179200      activation_55[0][0]              \n",
            "__________________________________________________________________________________________________\n",
            "batch_normalization_51 (BatchNo (None, 12, 12, 160)  480         conv2d_51[0][0]                  \n",
            "__________________________________________________________________________________________________\n",
            "batch_normalization_56 (BatchNo (None, 12, 12, 160)  480         conv2d_56[0][0]                  \n",
            "__________________________________________________________________________________________________\n",
            "activation_51 (Activation)      (None, 12, 12, 160)  0           batch_normalization_51[0][0]     \n",
            "__________________________________________________________________________________________________\n",
            "activation_56 (Activation)      (None, 12, 12, 160)  0           batch_normalization_56[0][0]     \n",
            "__________________________________________________________________________________________________\n",
            "conv2d_52 (Conv2D)              (None, 12, 12, 160)  179200      activation_51[0][0]              \n",
            "__________________________________________________________________________________________________\n",
            "conv2d_57 (Conv2D)              (None, 12, 12, 160)  179200      activation_56[0][0]              \n",
            "__________________________________________________________________________________________________\n",
            "batch_normalization_52 (BatchNo (None, 12, 12, 160)  480         conv2d_52[0][0]                  \n",
            "__________________________________________________________________________________________________\n",
            "batch_normalization_57 (BatchNo (None, 12, 12, 160)  480         conv2d_57[0][0]                  \n",
            "__________________________________________________________________________________________________\n",
            "activation_52 (Activation)      (None, 12, 12, 160)  0           batch_normalization_52[0][0]     \n",
            "__________________________________________________________________________________________________\n",
            "activation_57 (Activation)      (None, 12, 12, 160)  0           batch_normalization_57[0][0]     \n",
            "__________________________________________________________________________________________________\n",
            "average_pooling2d_5 (AveragePoo (None, 12, 12, 768)  0           mixed5[0][0]                     \n",
            "__________________________________________________________________________________________________\n",
            "conv2d_50 (Conv2D)              (None, 12, 12, 192)  147456      mixed5[0][0]                     \n",
            "__________________________________________________________________________________________________\n",
            "conv2d_53 (Conv2D)              (None, 12, 12, 192)  215040      activation_52[0][0]              \n",
            "__________________________________________________________________________________________________\n",
            "conv2d_58 (Conv2D)              (None, 12, 12, 192)  215040      activation_57[0][0]              \n",
            "__________________________________________________________________________________________________\n",
            "conv2d_59 (Conv2D)              (None, 12, 12, 192)  147456      average_pooling2d_5[0][0]        \n",
            "__________________________________________________________________________________________________\n",
            "batch_normalization_50 (BatchNo (None, 12, 12, 192)  576         conv2d_50[0][0]                  \n",
            "__________________________________________________________________________________________________\n",
            "batch_normalization_53 (BatchNo (None, 12, 12, 192)  576         conv2d_53[0][0]                  \n",
            "__________________________________________________________________________________________________\n",
            "batch_normalization_58 (BatchNo (None, 12, 12, 192)  576         conv2d_58[0][0]                  \n",
            "__________________________________________________________________________________________________\n",
            "batch_normalization_59 (BatchNo (None, 12, 12, 192)  576         conv2d_59[0][0]                  \n",
            "__________________________________________________________________________________________________\n",
            "activation_50 (Activation)      (None, 12, 12, 192)  0           batch_normalization_50[0][0]     \n",
            "__________________________________________________________________________________________________\n",
            "activation_53 (Activation)      (None, 12, 12, 192)  0           batch_normalization_53[0][0]     \n",
            "__________________________________________________________________________________________________\n",
            "activation_58 (Activation)      (None, 12, 12, 192)  0           batch_normalization_58[0][0]     \n",
            "__________________________________________________________________________________________________\n",
            "activation_59 (Activation)      (None, 12, 12, 192)  0           batch_normalization_59[0][0]     \n",
            "__________________________________________________________________________________________________\n",
            "mixed6 (Concatenate)            (None, 12, 12, 768)  0           activation_50[0][0]              \n",
            "                                                                 activation_53[0][0]              \n",
            "                                                                 activation_58[0][0]              \n",
            "                                                                 activation_59[0][0]              \n",
            "__________________________________________________________________________________________________\n",
            "conv2d_64 (Conv2D)              (None, 12, 12, 192)  147456      mixed6[0][0]                     \n",
            "__________________________________________________________________________________________________\n",
            "batch_normalization_64 (BatchNo (None, 12, 12, 192)  576         conv2d_64[0][0]                  \n",
            "__________________________________________________________________________________________________\n",
            "activation_64 (Activation)      (None, 12, 12, 192)  0           batch_normalization_64[0][0]     \n",
            "__________________________________________________________________________________________________\n",
            "conv2d_65 (Conv2D)              (None, 12, 12, 192)  258048      activation_64[0][0]              \n",
            "__________________________________________________________________________________________________\n",
            "batch_normalization_65 (BatchNo (None, 12, 12, 192)  576         conv2d_65[0][0]                  \n",
            "__________________________________________________________________________________________________\n",
            "activation_65 (Activation)      (None, 12, 12, 192)  0           batch_normalization_65[0][0]     \n",
            "__________________________________________________________________________________________________\n",
            "conv2d_61 (Conv2D)              (None, 12, 12, 192)  147456      mixed6[0][0]                     \n",
            "__________________________________________________________________________________________________\n",
            "conv2d_66 (Conv2D)              (None, 12, 12, 192)  258048      activation_65[0][0]              \n",
            "__________________________________________________________________________________________________\n",
            "batch_normalization_61 (BatchNo (None, 12, 12, 192)  576         conv2d_61[0][0]                  \n",
            "__________________________________________________________________________________________________\n",
            "batch_normalization_66 (BatchNo (None, 12, 12, 192)  576         conv2d_66[0][0]                  \n",
            "__________________________________________________________________________________________________\n",
            "activation_61 (Activation)      (None, 12, 12, 192)  0           batch_normalization_61[0][0]     \n",
            "__________________________________________________________________________________________________\n",
            "activation_66 (Activation)      (None, 12, 12, 192)  0           batch_normalization_66[0][0]     \n",
            "__________________________________________________________________________________________________\n",
            "conv2d_62 (Conv2D)              (None, 12, 12, 192)  258048      activation_61[0][0]              \n",
            "__________________________________________________________________________________________________\n",
            "conv2d_67 (Conv2D)              (None, 12, 12, 192)  258048      activation_66[0][0]              \n",
            "__________________________________________________________________________________________________\n",
            "batch_normalization_62 (BatchNo (None, 12, 12, 192)  576         conv2d_62[0][0]                  \n",
            "__________________________________________________________________________________________________\n",
            "batch_normalization_67 (BatchNo (None, 12, 12, 192)  576         conv2d_67[0][0]                  \n",
            "__________________________________________________________________________________________________\n",
            "activation_62 (Activation)      (None, 12, 12, 192)  0           batch_normalization_62[0][0]     \n",
            "__________________________________________________________________________________________________\n",
            "activation_67 (Activation)      (None, 12, 12, 192)  0           batch_normalization_67[0][0]     \n",
            "__________________________________________________________________________________________________\n",
            "average_pooling2d_6 (AveragePoo (None, 12, 12, 768)  0           mixed6[0][0]                     \n",
            "__________________________________________________________________________________________________\n",
            "conv2d_60 (Conv2D)              (None, 12, 12, 192)  147456      mixed6[0][0]                     \n",
            "__________________________________________________________________________________________________\n",
            "conv2d_63 (Conv2D)              (None, 12, 12, 192)  258048      activation_62[0][0]              \n",
            "__________________________________________________________________________________________________\n",
            "conv2d_68 (Conv2D)              (None, 12, 12, 192)  258048      activation_67[0][0]              \n",
            "__________________________________________________________________________________________________\n",
            "conv2d_69 (Conv2D)              (None, 12, 12, 192)  147456      average_pooling2d_6[0][0]        \n",
            "__________________________________________________________________________________________________\n",
            "batch_normalization_60 (BatchNo (None, 12, 12, 192)  576         conv2d_60[0][0]                  \n",
            "__________________________________________________________________________________________________\n",
            "batch_normalization_63 (BatchNo (None, 12, 12, 192)  576         conv2d_63[0][0]                  \n",
            "__________________________________________________________________________________________________\n",
            "batch_normalization_68 (BatchNo (None, 12, 12, 192)  576         conv2d_68[0][0]                  \n",
            "__________________________________________________________________________________________________\n",
            "batch_normalization_69 (BatchNo (None, 12, 12, 192)  576         conv2d_69[0][0]                  \n",
            "__________________________________________________________________________________________________\n",
            "activation_60 (Activation)      (None, 12, 12, 192)  0           batch_normalization_60[0][0]     \n",
            "__________________________________________________________________________________________________\n",
            "activation_63 (Activation)      (None, 12, 12, 192)  0           batch_normalization_63[0][0]     \n",
            "__________________________________________________________________________________________________\n",
            "activation_68 (Activation)      (None, 12, 12, 192)  0           batch_normalization_68[0][0]     \n",
            "__________________________________________________________________________________________________\n",
            "activation_69 (Activation)      (None, 12, 12, 192)  0           batch_normalization_69[0][0]     \n",
            "__________________________________________________________________________________________________\n",
            "mixed7 (Concatenate)            (None, 12, 12, 768)  0           activation_60[0][0]              \n",
            "                                                                 activation_63[0][0]              \n",
            "                                                                 activation_68[0][0]              \n",
            "                                                                 activation_69[0][0]              \n",
            "__________________________________________________________________________________________________\n",
            "conv2d_72 (Conv2D)              (None, 12, 12, 192)  147456      mixed7[0][0]                     \n",
            "__________________________________________________________________________________________________\n",
            "batch_normalization_72 (BatchNo (None, 12, 12, 192)  576         conv2d_72[0][0]                  \n",
            "__________________________________________________________________________________________________\n",
            "activation_72 (Activation)      (None, 12, 12, 192)  0           batch_normalization_72[0][0]     \n",
            "__________________________________________________________________________________________________\n",
            "conv2d_73 (Conv2D)              (None, 12, 12, 192)  258048      activation_72[0][0]              \n",
            "__________________________________________________________________________________________________\n",
            "batch_normalization_73 (BatchNo (None, 12, 12, 192)  576         conv2d_73[0][0]                  \n",
            "__________________________________________________________________________________________________\n",
            "activation_73 (Activation)      (None, 12, 12, 192)  0           batch_normalization_73[0][0]     \n",
            "__________________________________________________________________________________________________\n",
            "conv2d_70 (Conv2D)              (None, 12, 12, 192)  147456      mixed7[0][0]                     \n",
            "__________________________________________________________________________________________________\n",
            "conv2d_74 (Conv2D)              (None, 12, 12, 192)  258048      activation_73[0][0]              \n",
            "__________________________________________________________________________________________________\n",
            "batch_normalization_70 (BatchNo (None, 12, 12, 192)  576         conv2d_70[0][0]                  \n",
            "__________________________________________________________________________________________________\n",
            "batch_normalization_74 (BatchNo (None, 12, 12, 192)  576         conv2d_74[0][0]                  \n",
            "__________________________________________________________________________________________________\n",
            "activation_70 (Activation)      (None, 12, 12, 192)  0           batch_normalization_70[0][0]     \n",
            "__________________________________________________________________________________________________\n",
            "activation_74 (Activation)      (None, 12, 12, 192)  0           batch_normalization_74[0][0]     \n",
            "__________________________________________________________________________________________________\n",
            "conv2d_71 (Conv2D)              (None, 5, 5, 320)    552960      activation_70[0][0]              \n",
            "__________________________________________________________________________________________________\n",
            "conv2d_75 (Conv2D)              (None, 5, 5, 192)    331776      activation_74[0][0]              \n",
            "__________________________________________________________________________________________________\n",
            "batch_normalization_71 (BatchNo (None, 5, 5, 320)    960         conv2d_71[0][0]                  \n",
            "__________________________________________________________________________________________________\n",
            "batch_normalization_75 (BatchNo (None, 5, 5, 192)    576         conv2d_75[0][0]                  \n",
            "__________________________________________________________________________________________________\n",
            "activation_71 (Activation)      (None, 5, 5, 320)    0           batch_normalization_71[0][0]     \n",
            "__________________________________________________________________________________________________\n",
            "activation_75 (Activation)      (None, 5, 5, 192)    0           batch_normalization_75[0][0]     \n",
            "__________________________________________________________________________________________________\n",
            "max_pooling2d_3 (MaxPooling2D)  (None, 5, 5, 768)    0           mixed7[0][0]                     \n",
            "__________________________________________________________________________________________________\n",
            "mixed8 (Concatenate)            (None, 5, 5, 1280)   0           activation_71[0][0]              \n",
            "                                                                 activation_75[0][0]              \n",
            "                                                                 max_pooling2d_3[0][0]            \n",
            "__________________________________________________________________________________________________\n",
            "conv2d_80 (Conv2D)              (None, 5, 5, 448)    573440      mixed8[0][0]                     \n",
            "__________________________________________________________________________________________________\n",
            "batch_normalization_80 (BatchNo (None, 5, 5, 448)    1344        conv2d_80[0][0]                  \n",
            "__________________________________________________________________________________________________\n",
            "activation_80 (Activation)      (None, 5, 5, 448)    0           batch_normalization_80[0][0]     \n",
            "__________________________________________________________________________________________________\n",
            "conv2d_77 (Conv2D)              (None, 5, 5, 384)    491520      mixed8[0][0]                     \n",
            "__________________________________________________________________________________________________\n",
            "conv2d_81 (Conv2D)              (None, 5, 5, 384)    1548288     activation_80[0][0]              \n",
            "__________________________________________________________________________________________________\n",
            "batch_normalization_77 (BatchNo (None, 5, 5, 384)    1152        conv2d_77[0][0]                  \n",
            "__________________________________________________________________________________________________\n",
            "batch_normalization_81 (BatchNo (None, 5, 5, 384)    1152        conv2d_81[0][0]                  \n",
            "__________________________________________________________________________________________________\n",
            "activation_77 (Activation)      (None, 5, 5, 384)    0           batch_normalization_77[0][0]     \n",
            "__________________________________________________________________________________________________\n",
            "activation_81 (Activation)      (None, 5, 5, 384)    0           batch_normalization_81[0][0]     \n",
            "__________________________________________________________________________________________________\n",
            "conv2d_78 (Conv2D)              (None, 5, 5, 384)    442368      activation_77[0][0]              \n",
            "__________________________________________________________________________________________________\n",
            "conv2d_79 (Conv2D)              (None, 5, 5, 384)    442368      activation_77[0][0]              \n",
            "__________________________________________________________________________________________________\n",
            "conv2d_82 (Conv2D)              (None, 5, 5, 384)    442368      activation_81[0][0]              \n",
            "__________________________________________________________________________________________________\n",
            "conv2d_83 (Conv2D)              (None, 5, 5, 384)    442368      activation_81[0][0]              \n",
            "__________________________________________________________________________________________________\n",
            "average_pooling2d_7 (AveragePoo (None, 5, 5, 1280)   0           mixed8[0][0]                     \n",
            "__________________________________________________________________________________________________\n",
            "conv2d_76 (Conv2D)              (None, 5, 5, 320)    409600      mixed8[0][0]                     \n",
            "__________________________________________________________________________________________________\n",
            "batch_normalization_78 (BatchNo (None, 5, 5, 384)    1152        conv2d_78[0][0]                  \n",
            "__________________________________________________________________________________________________\n",
            "batch_normalization_79 (BatchNo (None, 5, 5, 384)    1152        conv2d_79[0][0]                  \n",
            "__________________________________________________________________________________________________\n",
            "batch_normalization_82 (BatchNo (None, 5, 5, 384)    1152        conv2d_82[0][0]                  \n",
            "__________________________________________________________________________________________________\n",
            "batch_normalization_83 (BatchNo (None, 5, 5, 384)    1152        conv2d_83[0][0]                  \n",
            "__________________________________________________________________________________________________\n",
            "conv2d_84 (Conv2D)              (None, 5, 5, 192)    245760      average_pooling2d_7[0][0]        \n",
            "__________________________________________________________________________________________________\n",
            "batch_normalization_76 (BatchNo (None, 5, 5, 320)    960         conv2d_76[0][0]                  \n",
            "__________________________________________________________________________________________________\n",
            "activation_78 (Activation)      (None, 5, 5, 384)    0           batch_normalization_78[0][0]     \n",
            "__________________________________________________________________________________________________\n",
            "activation_79 (Activation)      (None, 5, 5, 384)    0           batch_normalization_79[0][0]     \n",
            "__________________________________________________________________________________________________\n",
            "activation_82 (Activation)      (None, 5, 5, 384)    0           batch_normalization_82[0][0]     \n",
            "__________________________________________________________________________________________________\n",
            "activation_83 (Activation)      (None, 5, 5, 384)    0           batch_normalization_83[0][0]     \n",
            "__________________________________________________________________________________________________\n",
            "batch_normalization_84 (BatchNo (None, 5, 5, 192)    576         conv2d_84[0][0]                  \n",
            "__________________________________________________________________________________________________\n",
            "activation_76 (Activation)      (None, 5, 5, 320)    0           batch_normalization_76[0][0]     \n",
            "__________________________________________________________________________________________________\n",
            "mixed9_0 (Concatenate)          (None, 5, 5, 768)    0           activation_78[0][0]              \n",
            "                                                                 activation_79[0][0]              \n",
            "__________________________________________________________________________________________________\n",
            "concatenate (Concatenate)       (None, 5, 5, 768)    0           activation_82[0][0]              \n",
            "                                                                 activation_83[0][0]              \n",
            "__________________________________________________________________________________________________\n",
            "activation_84 (Activation)      (None, 5, 5, 192)    0           batch_normalization_84[0][0]     \n",
            "__________________________________________________________________________________________________\n",
            "mixed9 (Concatenate)            (None, 5, 5, 2048)   0           activation_76[0][0]              \n",
            "                                                                 mixed9_0[0][0]                   \n",
            "                                                                 concatenate[0][0]                \n",
            "                                                                 activation_84[0][0]              \n",
            "__________________________________________________________________________________________________\n",
            "conv2d_89 (Conv2D)              (None, 5, 5, 448)    917504      mixed9[0][0]                     \n",
            "__________________________________________________________________________________________________\n",
            "batch_normalization_89 (BatchNo (None, 5, 5, 448)    1344        conv2d_89[0][0]                  \n",
            "__________________________________________________________________________________________________\n",
            "activation_89 (Activation)      (None, 5, 5, 448)    0           batch_normalization_89[0][0]     \n",
            "__________________________________________________________________________________________________\n",
            "conv2d_86 (Conv2D)              (None, 5, 5, 384)    786432      mixed9[0][0]                     \n",
            "__________________________________________________________________________________________________\n",
            "conv2d_90 (Conv2D)              (None, 5, 5, 384)    1548288     activation_89[0][0]              \n",
            "__________________________________________________________________________________________________\n",
            "batch_normalization_86 (BatchNo (None, 5, 5, 384)    1152        conv2d_86[0][0]                  \n",
            "__________________________________________________________________________________________________\n",
            "batch_normalization_90 (BatchNo (None, 5, 5, 384)    1152        conv2d_90[0][0]                  \n",
            "__________________________________________________________________________________________________\n",
            "activation_86 (Activation)      (None, 5, 5, 384)    0           batch_normalization_86[0][0]     \n",
            "__________________________________________________________________________________________________\n",
            "activation_90 (Activation)      (None, 5, 5, 384)    0           batch_normalization_90[0][0]     \n",
            "__________________________________________________________________________________________________\n",
            "conv2d_87 (Conv2D)              (None, 5, 5, 384)    442368      activation_86[0][0]              \n",
            "__________________________________________________________________________________________________\n",
            "conv2d_88 (Conv2D)              (None, 5, 5, 384)    442368      activation_86[0][0]              \n",
            "__________________________________________________________________________________________________\n",
            "conv2d_91 (Conv2D)              (None, 5, 5, 384)    442368      activation_90[0][0]              \n",
            "__________________________________________________________________________________________________\n",
            "conv2d_92 (Conv2D)              (None, 5, 5, 384)    442368      activation_90[0][0]              \n",
            "__________________________________________________________________________________________________\n",
            "average_pooling2d_8 (AveragePoo (None, 5, 5, 2048)   0           mixed9[0][0]                     \n",
            "__________________________________________________________________________________________________\n",
            "conv2d_85 (Conv2D)              (None, 5, 5, 320)    655360      mixed9[0][0]                     \n",
            "__________________________________________________________________________________________________\n",
            "batch_normalization_87 (BatchNo (None, 5, 5, 384)    1152        conv2d_87[0][0]                  \n",
            "__________________________________________________________________________________________________\n",
            "batch_normalization_88 (BatchNo (None, 5, 5, 384)    1152        conv2d_88[0][0]                  \n",
            "__________________________________________________________________________________________________\n",
            "batch_normalization_91 (BatchNo (None, 5, 5, 384)    1152        conv2d_91[0][0]                  \n",
            "__________________________________________________________________________________________________\n",
            "batch_normalization_92 (BatchNo (None, 5, 5, 384)    1152        conv2d_92[0][0]                  \n",
            "__________________________________________________________________________________________________\n",
            "conv2d_93 (Conv2D)              (None, 5, 5, 192)    393216      average_pooling2d_8[0][0]        \n",
            "__________________________________________________________________________________________________\n",
            "batch_normalization_85 (BatchNo (None, 5, 5, 320)    960         conv2d_85[0][0]                  \n",
            "__________________________________________________________________________________________________\n",
            "activation_87 (Activation)      (None, 5, 5, 384)    0           batch_normalization_87[0][0]     \n",
            "__________________________________________________________________________________________________\n",
            "activation_88 (Activation)      (None, 5, 5, 384)    0           batch_normalization_88[0][0]     \n",
            "__________________________________________________________________________________________________\n",
            "activation_91 (Activation)      (None, 5, 5, 384)    0           batch_normalization_91[0][0]     \n",
            "__________________________________________________________________________________________________\n",
            "activation_92 (Activation)      (None, 5, 5, 384)    0           batch_normalization_92[0][0]     \n",
            "__________________________________________________________________________________________________\n",
            "batch_normalization_93 (BatchNo (None, 5, 5, 192)    576         conv2d_93[0][0]                  \n",
            "__________________________________________________________________________________________________\n",
            "activation_85 (Activation)      (None, 5, 5, 320)    0           batch_normalization_85[0][0]     \n",
            "__________________________________________________________________________________________________\n",
            "mixed9_1 (Concatenate)          (None, 5, 5, 768)    0           activation_87[0][0]              \n",
            "                                                                 activation_88[0][0]              \n",
            "__________________________________________________________________________________________________\n",
            "concatenate_1 (Concatenate)     (None, 5, 5, 768)    0           activation_91[0][0]              \n",
            "                                                                 activation_92[0][0]              \n",
            "__________________________________________________________________________________________________\n",
            "activation_93 (Activation)      (None, 5, 5, 192)    0           batch_normalization_93[0][0]     \n",
            "__________________________________________________________________________________________________\n",
            "mixed10 (Concatenate)           (None, 5, 5, 2048)   0           activation_85[0][0]              \n",
            "                                                                 mixed9_1[0][0]                   \n",
            "                                                                 concatenate_1[0][0]              \n",
            "                                                                 activation_93[0][0]              \n",
            "__________________________________________________________________________________________________\n",
            "flatten (Flatten)               (None, 51200)        0           mixed10[0][0]                    \n",
            "__________________________________________________________________________________________________\n",
            "dense (Dense)                   (None, 4)            204804      flatten[0][0]                    \n",
            "==================================================================================================\n",
            "Total params: 22,007,588\n",
            "Trainable params: 204,804\n",
            "Non-trainable params: 21,802,784\n",
            "__________________________________________________________________________________________________\n"
          ],
          "name": "stdout"
        }
      ]
    },
    {
      "cell_type": "code",
      "metadata": {
        "id": "IIqo4uIp6r55"
      },
      "source": [
        "# tell the model what cost and optimization method to use\n",
        "model.compile(\n",
        "  loss='categorical_crossentropy',\n",
        "  optimizer=tf.keras.optimizers.Adam(1e-06),\n",
        "  metrics=['accuracy']\n",
        ")\n"
      ],
      "execution_count": 16,
      "outputs": []
    },
    {
      "cell_type": "code",
      "metadata": {
        "id": "_o10oHGp6r55"
      },
      "source": [
        "# Use the Image Data Generator to import the images from the dataset\n",
        "from tensorflow.keras.preprocessing.image import ImageDataGenerator\n",
        "\n",
        "train_datagen = ImageDataGenerator(rescale = 1./255,\n",
        "                                   shear_range = 0.2,\n",
        "                                   zoom_range = 0.2,\n",
        "                                   horizontal_flip = True)\n",
        "\n",
        "test_datagen = ImageDataGenerator(rescale = 1./255)"
      ],
      "execution_count": 3,
      "outputs": []
    },
    {
      "cell_type": "code",
      "metadata": {
        "colab": {
          "base_uri": "https://localhost:8080/"
        },
        "id": "x6O78AR-6r56",
        "outputId": "3e8564bf-536a-4d6d-fde0-4ffe9503c6d3"
      },
      "source": [
        "# Make sure you provide the same target size as initialied for the image size\n",
        "training_set = train_datagen.flow_from_directory(train_path,\n",
        "                                                 target_size = (224, 224),\n",
        "                                                 batch_size = 64,\n",
        "                                                 class_mode = 'categorical')"
      ],
      "execution_count": 4,
      "outputs": [
        {
          "output_type": "stream",
          "text": [
            "Found 1951 images belonging to 4 classes.\n"
          ],
          "name": "stdout"
        }
      ]
    },
    {
      "cell_type": "code",
      "metadata": {
        "colab": {
          "base_uri": "https://localhost:8080/"
        },
        "id": "8aXgTY_tFKOe",
        "outputId": "bf0efe21-6354-47e9-dabc-c97bcf513a7a"
      },
      "source": [
        "training_set.class_indices"
      ],
      "execution_count": 6,
      "outputs": [
        {
          "output_type": "execute_result",
          "data": {
            "text/plain": [
              "{'diseased cotton leaf': 0,\n",
              " 'diseased cotton plant': 1,\n",
              " 'fresh cotton leaf': 2,\n",
              " 'fresh cotton plant': 3}"
            ]
          },
          "metadata": {
            "tags": []
          },
          "execution_count": 6
        }
      ]
    },
    {
      "cell_type": "code",
      "metadata": {
        "colab": {
          "base_uri": "https://localhost:8080/"
        },
        "id": "zjlY0tbw6r57",
        "outputId": "5a7f568d-b09d-4f73-e29e-eb36e1bd2e3b"
      },
      "source": [
        "test_set = test_datagen.flow_from_directory(valid_path,\n",
        "                                            target_size = (224, 224),\n",
        "                                            batch_size = 64,\n",
        "                                            class_mode = 'categorical')"
      ],
      "execution_count": 5,
      "outputs": [
        {
          "output_type": "stream",
          "text": [
            "Found 106 images belonging to 4 classes.\n"
          ],
          "name": "stdout"
        }
      ]
    },
    {
      "cell_type": "code",
      "metadata": {
        "id": "W--dq3poZvaE",
        "colab": {
          "base_uri": "https://localhost:8080/"
        },
        "outputId": "b39b3437-10c8-47b9-f6ea-1d6e6337af52"
      },
      "source": [
        "early_stopping = tf.keras.callbacks.EarlyStopping(monitor= 'val_loss',\n",
        "                                                 patience=3,\n",
        "                                                 mode='min')\n",
        "\n",
        "model.compile(loss='categorical_crossentropy', \n",
        "              optimizer=tf.keras.optimizers.Adam(1e-06), \n",
        "             metrics = ['accuracy'])\n",
        "\n",
        "history = model.fit(training_set, epochs = 100,\n",
        "                    validation_data = test_set,                    \n",
        "                    steps_per_epoch=len(training_set),\n",
        "                    validation_steps=len(test_set),\n",
        "                    callbacks=[early_stopping])"
      ],
      "execution_count": null,
      "outputs": [
        {
          "output_type": "stream",
          "text": [
            "Epoch 1/100\n",
            "31/31 [==============================] - 44s 1s/step - loss: 1.9366 - accuracy: 0.2547 - val_loss: 1.7243 - val_accuracy: 0.2453\n",
            "Epoch 2/100\n",
            "31/31 [==============================] - 33s 1s/step - loss: 1.7024 - accuracy: 0.2619 - val_loss: 1.6238 - val_accuracy: 0.3491\n",
            "Epoch 3/100\n",
            "31/31 [==============================] - 32s 1s/step - loss: 1.5126 - accuracy: 0.3270 - val_loss: 1.5720 - val_accuracy: 0.3962\n",
            "Epoch 4/100\n",
            "31/31 [==============================] - 32s 1s/step - loss: 1.4708 - accuracy: 0.3644 - val_loss: 1.5238 - val_accuracy: 0.4151\n",
            "Epoch 5/100\n",
            "31/31 [==============================] - 32s 1s/step - loss: 1.3848 - accuracy: 0.3870 - val_loss: 1.4688 - val_accuracy: 0.4151\n",
            "Epoch 6/100\n",
            "31/31 [==============================] - 32s 1s/step - loss: 1.3444 - accuracy: 0.4177 - val_loss: 1.4166 - val_accuracy: 0.4057\n",
            "Epoch 7/100\n",
            "31/31 [==============================] - 32s 1s/step - loss: 1.2942 - accuracy: 0.4470 - val_loss: 1.3665 - val_accuracy: 0.4245\n",
            "Epoch 8/100\n",
            "31/31 [==============================] - 32s 1s/step - loss: 1.2698 - accuracy: 0.4634 - val_loss: 1.3155 - val_accuracy: 0.4717\n",
            "Epoch 9/100\n",
            "31/31 [==============================] - 33s 1s/step - loss: 1.2047 - accuracy: 0.4854 - val_loss: 1.2777 - val_accuracy: 0.4717\n",
            "Epoch 10/100\n",
            "31/31 [==============================] - 32s 1s/step - loss: 1.1628 - accuracy: 0.5146 - val_loss: 1.2358 - val_accuracy: 0.4717\n",
            "Epoch 11/100\n",
            "31/31 [==============================] - 32s 1s/step - loss: 1.1559 - accuracy: 0.5243 - val_loss: 1.1983 - val_accuracy: 0.4811\n",
            "Epoch 12/100\n",
            "31/31 [==============================] - 32s 1s/step - loss: 1.1072 - accuracy: 0.5361 - val_loss: 1.1638 - val_accuracy: 0.4906\n",
            "Epoch 13/100\n",
            "31/31 [==============================] - 32s 1s/step - loss: 1.0617 - accuracy: 0.5715 - val_loss: 1.1324 - val_accuracy: 0.4906\n",
            "Epoch 14/100\n",
            "31/31 [==============================] - 32s 1s/step - loss: 1.0267 - accuracy: 0.5736 - val_loss: 1.0995 - val_accuracy: 0.5472\n",
            "Epoch 15/100\n",
            "31/31 [==============================] - 32s 1s/step - loss: 1.0295 - accuracy: 0.5725 - val_loss: 1.0717 - val_accuracy: 0.5660\n",
            "Epoch 16/100\n",
            "31/31 [==============================] - 32s 1s/step - loss: 0.9767 - accuracy: 0.6048 - val_loss: 1.0471 - val_accuracy: 0.5660\n",
            "Epoch 17/100\n",
            "31/31 [==============================] - 32s 1s/step - loss: 0.9519 - accuracy: 0.6110 - val_loss: 1.0218 - val_accuracy: 0.5849\n",
            "Epoch 18/100\n",
            "31/31 [==============================] - 32s 1s/step - loss: 0.9478 - accuracy: 0.6166 - val_loss: 0.9942 - val_accuracy: 0.6038\n",
            "Epoch 19/100\n",
            "31/31 [==============================] - 32s 1s/step - loss: 0.9162 - accuracy: 0.6335 - val_loss: 0.9731 - val_accuracy: 0.6132\n",
            "Epoch 20/100\n",
            "31/31 [==============================] - 32s 1s/step - loss: 0.8881 - accuracy: 0.6458 - val_loss: 0.9503 - val_accuracy: 0.6226\n",
            "Epoch 21/100\n",
            "31/31 [==============================] - 32s 1s/step - loss: 0.8675 - accuracy: 0.6561 - val_loss: 0.9293 - val_accuracy: 0.6415\n",
            "Epoch 22/100\n",
            "31/31 [==============================] - 32s 1s/step - loss: 0.8561 - accuracy: 0.6535 - val_loss: 0.9111 - val_accuracy: 0.6509\n",
            "Epoch 23/100\n",
            "31/31 [==============================] - 32s 1s/step - loss: 0.8298 - accuracy: 0.6715 - val_loss: 0.8919 - val_accuracy: 0.6604\n",
            "Epoch 24/100\n",
            "31/31 [==============================] - 32s 1s/step - loss: 0.7993 - accuracy: 0.7017 - val_loss: 0.8762 - val_accuracy: 0.6509\n",
            "Epoch 25/100\n",
            "31/31 [==============================] - 32s 1s/step - loss: 0.7970 - accuracy: 0.6879 - val_loss: 0.8576 - val_accuracy: 0.6698\n",
            "Epoch 26/100\n",
            "31/31 [==============================] - 32s 1s/step - loss: 0.7855 - accuracy: 0.6981 - val_loss: 0.8461 - val_accuracy: 0.6604\n",
            "Epoch 27/100\n",
            "31/31 [==============================] - 32s 1s/step - loss: 0.7694 - accuracy: 0.7017 - val_loss: 0.8296 - val_accuracy: 0.6698\n",
            "Epoch 28/100\n",
            "31/31 [==============================] - 32s 1s/step - loss: 0.7627 - accuracy: 0.6920 - val_loss: 0.8130 - val_accuracy: 0.6604\n",
            "Epoch 29/100\n",
            "31/31 [==============================] - 32s 1s/step - loss: 0.7406 - accuracy: 0.7176 - val_loss: 0.7991 - val_accuracy: 0.6698\n",
            "Epoch 30/100\n",
            "31/31 [==============================] - 32s 1s/step - loss: 0.7139 - accuracy: 0.7242 - val_loss: 0.7858 - val_accuracy: 0.6698\n",
            "Epoch 31/100\n",
            "31/31 [==============================] - 33s 1s/step - loss: 0.7201 - accuracy: 0.7242 - val_loss: 0.7730 - val_accuracy: 0.6698\n",
            "Epoch 32/100\n",
            "31/31 [==============================] - 32s 1s/step - loss: 0.7076 - accuracy: 0.7324 - val_loss: 0.7636 - val_accuracy: 0.6792\n",
            "Epoch 33/100\n",
            "31/31 [==============================] - 32s 1s/step - loss: 0.6733 - accuracy: 0.7478 - val_loss: 0.7486 - val_accuracy: 0.6887\n",
            "Epoch 34/100\n",
            "31/31 [==============================] - 32s 1s/step - loss: 0.6999 - accuracy: 0.7222 - val_loss: 0.7314 - val_accuracy: 0.6981\n",
            "Epoch 35/100\n",
            "31/31 [==============================] - 32s 1s/step - loss: 0.6657 - accuracy: 0.7514 - val_loss: 0.7199 - val_accuracy: 0.6981\n",
            "Epoch 36/100\n",
            "31/31 [==============================] - 32s 1s/step - loss: 0.6507 - accuracy: 0.7581 - val_loss: 0.7155 - val_accuracy: 0.6981\n",
            "Epoch 37/100\n",
            "31/31 [==============================] - 32s 1s/step - loss: 0.6282 - accuracy: 0.7781 - val_loss: 0.7090 - val_accuracy: 0.6981\n",
            "Epoch 38/100\n",
            "31/31 [==============================] - 32s 1s/step - loss: 0.6319 - accuracy: 0.7586 - val_loss: 0.6953 - val_accuracy: 0.6981\n",
            "Epoch 39/100\n",
            "31/31 [==============================] - 32s 1s/step - loss: 0.6272 - accuracy: 0.7719 - val_loss: 0.6835 - val_accuracy: 0.7075\n",
            "Epoch 40/100\n",
            "31/31 [==============================] - 32s 1s/step - loss: 0.6330 - accuracy: 0.7642 - val_loss: 0.6750 - val_accuracy: 0.7170\n",
            "Epoch 41/100\n",
            "31/31 [==============================] - 32s 1s/step - loss: 0.6014 - accuracy: 0.7811 - val_loss: 0.6669 - val_accuracy: 0.7170\n",
            "Epoch 42/100\n",
            "31/31 [==============================] - 32s 1s/step - loss: 0.6079 - accuracy: 0.7683 - val_loss: 0.6565 - val_accuracy: 0.7264\n",
            "Epoch 43/100\n",
            "31/31 [==============================] - 32s 1s/step - loss: 0.5975 - accuracy: 0.7775 - val_loss: 0.6487 - val_accuracy: 0.7264\n",
            "Epoch 44/100\n",
            "31/31 [==============================] - 32s 1s/step - loss: 0.5776 - accuracy: 0.7873 - val_loss: 0.6373 - val_accuracy: 0.7264\n",
            "Epoch 45/100\n",
            "31/31 [==============================] - 32s 1s/step - loss: 0.5731 - accuracy: 0.8001 - val_loss: 0.6297 - val_accuracy: 0.7264\n",
            "Epoch 46/100\n",
            "31/31 [==============================] - 32s 1s/step - loss: 0.5722 - accuracy: 0.7975 - val_loss: 0.6211 - val_accuracy: 0.7264\n",
            "Epoch 47/100\n",
            "31/31 [==============================] - 32s 1s/step - loss: 0.5682 - accuracy: 0.7863 - val_loss: 0.6167 - val_accuracy: 0.7358\n",
            "Epoch 48/100\n",
            "31/31 [==============================] - 32s 1s/step - loss: 0.5666 - accuracy: 0.7950 - val_loss: 0.6076 - val_accuracy: 0.7358\n",
            "Epoch 49/100\n",
            "31/31 [==============================] - 32s 1s/step - loss: 0.5594 - accuracy: 0.7837 - val_loss: 0.6007 - val_accuracy: 0.7358\n",
            "Epoch 50/100\n",
            "31/31 [==============================] - 32s 1s/step - loss: 0.5361 - accuracy: 0.8088 - val_loss: 0.5962 - val_accuracy: 0.7453\n",
            "Epoch 51/100\n",
            "31/31 [==============================] - 32s 1s/step - loss: 0.5173 - accuracy: 0.8160 - val_loss: 0.5910 - val_accuracy: 0.7453\n",
            "Epoch 52/100\n",
            "31/31 [==============================] - 32s 1s/step - loss: 0.5377 - accuracy: 0.8068 - val_loss: 0.5868 - val_accuracy: 0.7453\n",
            "Epoch 53/100\n",
            "31/31 [==============================] - 32s 1s/step - loss: 0.5325 - accuracy: 0.8027 - val_loss: 0.5751 - val_accuracy: 0.7547\n",
            "Epoch 54/100\n",
            "31/31 [==============================] - 32s 1s/step - loss: 0.5167 - accuracy: 0.8211 - val_loss: 0.5741 - val_accuracy: 0.7547\n",
            "Epoch 55/100\n",
            "31/31 [==============================] - 32s 1s/step - loss: 0.5166 - accuracy: 0.8165 - val_loss: 0.5634 - val_accuracy: 0.7736\n",
            "Epoch 56/100\n",
            "31/31 [==============================] - 32s 1s/step - loss: 0.5014 - accuracy: 0.8262 - val_loss: 0.5595 - val_accuracy: 0.7736\n",
            "Epoch 57/100\n",
            "31/31 [==============================] - 32s 1s/step - loss: 0.5056 - accuracy: 0.8211 - val_loss: 0.5545 - val_accuracy: 0.7736\n",
            "Epoch 58/100\n",
            "31/31 [==============================] - 32s 1s/step - loss: 0.4993 - accuracy: 0.8201 - val_loss: 0.5467 - val_accuracy: 0.7925\n",
            "Epoch 59/100\n",
            "31/31 [==============================] - 32s 1s/step - loss: 0.4889 - accuracy: 0.8278 - val_loss: 0.5433 - val_accuracy: 0.7736\n",
            "Epoch 60/100\n",
            "31/31 [==============================] - 32s 1s/step - loss: 0.4794 - accuracy: 0.8268 - val_loss: 0.5383 - val_accuracy: 0.7830\n",
            "Epoch 61/100\n",
            "31/31 [==============================] - 32s 1s/step - loss: 0.4731 - accuracy: 0.8334 - val_loss: 0.5320 - val_accuracy: 0.7925\n",
            "Epoch 62/100\n",
            "31/31 [==============================] - 32s 1s/step - loss: 0.4844 - accuracy: 0.8273 - val_loss: 0.5271 - val_accuracy: 0.7925\n",
            "Epoch 63/100\n",
            "31/31 [==============================] - 32s 1s/step - loss: 0.4590 - accuracy: 0.8452 - val_loss: 0.5216 - val_accuracy: 0.8019\n",
            "Epoch 64/100\n",
            "31/31 [==============================] - 32s 1s/step - loss: 0.4744 - accuracy: 0.8237 - val_loss: 0.5174 - val_accuracy: 0.8019\n",
            "Epoch 65/100\n",
            "31/31 [==============================] - 32s 1s/step - loss: 0.4586 - accuracy: 0.8350 - val_loss: 0.5102 - val_accuracy: 0.8019\n",
            "Epoch 66/100\n",
            "31/31 [==============================] - 32s 1s/step - loss: 0.4580 - accuracy: 0.8303 - val_loss: 0.5085 - val_accuracy: 0.8208\n",
            "Epoch 67/100\n",
            "31/31 [==============================] - 32s 1s/step - loss: 0.4691 - accuracy: 0.8314 - val_loss: 0.5017 - val_accuracy: 0.8302\n",
            "Epoch 68/100\n",
            "31/31 [==============================] - 32s 1s/step - loss: 0.4457 - accuracy: 0.8457 - val_loss: 0.5024 - val_accuracy: 0.8302\n",
            "Epoch 69/100\n",
            "31/31 [==============================] - 32s 1s/step - loss: 0.4454 - accuracy: 0.8483 - val_loss: 0.4958 - val_accuracy: 0.8396\n",
            "Epoch 70/100\n",
            "31/31 [==============================] - 32s 1s/step - loss: 0.4520 - accuracy: 0.8375 - val_loss: 0.4894 - val_accuracy: 0.8396\n",
            "Epoch 71/100\n",
            "31/31 [==============================] - 32s 1s/step - loss: 0.4309 - accuracy: 0.8539 - val_loss: 0.4899 - val_accuracy: 0.8491\n",
            "Epoch 72/100\n",
            "31/31 [==============================] - 32s 1s/step - loss: 0.4164 - accuracy: 0.8626 - val_loss: 0.4814 - val_accuracy: 0.8491\n",
            "Epoch 73/100\n",
            "31/31 [==============================] - 32s 1s/step - loss: 0.4220 - accuracy: 0.8570 - val_loss: 0.4774 - val_accuracy: 0.8491\n",
            "Epoch 74/100\n",
            "31/31 [==============================] - 32s 1s/step - loss: 0.4219 - accuracy: 0.8514 - val_loss: 0.4761 - val_accuracy: 0.8396\n",
            "Epoch 75/100\n",
            "31/31 [==============================] - 32s 1s/step - loss: 0.4235 - accuracy: 0.8580 - val_loss: 0.4719 - val_accuracy: 0.8491\n",
            "Epoch 76/100\n",
            "31/31 [==============================] - 32s 1s/step - loss: 0.4108 - accuracy: 0.8524 - val_loss: 0.4709 - val_accuracy: 0.8396\n",
            "Epoch 77/100\n",
            "31/31 [==============================] - 32s 1s/step - loss: 0.4098 - accuracy: 0.8590 - val_loss: 0.4660 - val_accuracy: 0.8491\n",
            "Epoch 78/100\n",
            "31/31 [==============================] - 32s 1s/step - loss: 0.3975 - accuracy: 0.8693 - val_loss: 0.4582 - val_accuracy: 0.8679\n",
            "Epoch 79/100\n",
            "31/31 [==============================] - 32s 1s/step - loss: 0.4188 - accuracy: 0.8606 - val_loss: 0.4588 - val_accuracy: 0.8491\n",
            "Epoch 80/100\n",
            "31/31 [==============================] - 32s 1s/step - loss: 0.4097 - accuracy: 0.8606 - val_loss: 0.4537 - val_accuracy: 0.8585\n",
            "Epoch 81/100\n",
            "31/31 [==============================] - 32s 1s/step - loss: 0.4180 - accuracy: 0.8478 - val_loss: 0.4510 - val_accuracy: 0.8679\n",
            "Epoch 82/100\n",
            "31/31 [==============================] - 32s 1s/step - loss: 0.4060 - accuracy: 0.8575 - val_loss: 0.4452 - val_accuracy: 0.8774\n",
            "Epoch 83/100\n",
            "31/31 [==============================] - 32s 1s/step - loss: 0.3938 - accuracy: 0.8693 - val_loss: 0.4423 - val_accuracy: 0.8774\n",
            "Epoch 84/100\n",
            "31/31 [==============================] - 32s 1s/step - loss: 0.3916 - accuracy: 0.8611 - val_loss: 0.4394 - val_accuracy: 0.8774\n",
            "Epoch 85/100\n",
            "31/31 [==============================] - 32s 1s/step - loss: 0.3932 - accuracy: 0.8596 - val_loss: 0.4364 - val_accuracy: 0.8679\n",
            "Epoch 86/100\n",
            "31/31 [==============================] - 32s 1s/step - loss: 0.4010 - accuracy: 0.8519 - val_loss: 0.4328 - val_accuracy: 0.8868\n",
            "Epoch 87/100\n",
            "31/31 [==============================] - 32s 1s/step - loss: 0.3921 - accuracy: 0.8606 - val_loss: 0.4306 - val_accuracy: 0.8774\n",
            "Epoch 88/100\n",
            "31/31 [==============================] - 32s 1s/step - loss: 0.3811 - accuracy: 0.8729 - val_loss: 0.4254 - val_accuracy: 0.8774\n",
            "Epoch 89/100\n",
            "31/31 [==============================] - 32s 1s/step - loss: 0.3764 - accuracy: 0.8688 - val_loss: 0.4242 - val_accuracy: 0.8774\n",
            "Epoch 90/100\n",
            "31/31 [==============================] - 32s 1s/step - loss: 0.3869 - accuracy: 0.8647 - val_loss: 0.4177 - val_accuracy: 0.8868\n",
            "Epoch 91/100\n",
            "31/31 [==============================] - 32s 1s/step - loss: 0.3701 - accuracy: 0.8821 - val_loss: 0.4144 - val_accuracy: 0.8868\n",
            "Epoch 92/100\n",
            "31/31 [==============================] - 32s 1s/step - loss: 0.3662 - accuracy: 0.8795 - val_loss: 0.4128 - val_accuracy: 0.8868\n",
            "Epoch 93/100\n",
            "31/31 [==============================] - 32s 1s/step - loss: 0.3777 - accuracy: 0.8693 - val_loss: 0.4099 - val_accuracy: 0.8868\n",
            "Epoch 94/100\n",
            "31/31 [==============================] - 32s 1s/step - loss: 0.3800 - accuracy: 0.8729 - val_loss: 0.4083 - val_accuracy: 0.8774\n",
            "Epoch 95/100\n",
            "31/31 [==============================] - 32s 1s/step - loss: 0.3664 - accuracy: 0.8734 - val_loss: 0.4046 - val_accuracy: 0.8868\n",
            "Epoch 96/100\n",
            "31/31 [==============================] - 32s 1s/step - loss: 0.3589 - accuracy: 0.8806 - val_loss: 0.4013 - val_accuracy: 0.8868\n",
            "Epoch 97/100\n",
            "31/31 [==============================] - 32s 1s/step - loss: 0.3563 - accuracy: 0.8770 - val_loss: 0.3998 - val_accuracy: 0.8868\n",
            "Epoch 98/100\n",
            "31/31 [==============================] - 32s 1s/step - loss: 0.3595 - accuracy: 0.8816 - val_loss: 0.3977 - val_accuracy: 0.8868\n",
            "Epoch 99/100\n",
            "31/31 [==============================] - 32s 1s/step - loss: 0.3413 - accuracy: 0.8867 - val_loss: 0.3970 - val_accuracy: 0.8868\n",
            "Epoch 100/100\n",
            "30/31 [============================>.] - ETA: 0s - loss: 0.3513 - accuracy: 0.8802"
          ],
          "name": "stdout"
        }
      ]
    },
    {
      "cell_type": "code",
      "metadata": {
        "colab": {
          "base_uri": "https://localhost:8080/"
        },
        "id": "t7ZLMO7M6r58",
        "scrolled": true,
        "outputId": "2b8d3112-b36a-49f7-e4e0-22b3660fae7a"
      },
      "source": [
        "# fit the model\n",
        "# Run the cell. It will take some time to execute\n",
        "# Without earlystopping\n",
        "r = model.fit(\n",
        "  training_set,\n",
        "  validation_data=test_set,\n",
        "  epochs=20,\n",
        "  steps_per_epoch=len(training_set),\n",
        "  validation_steps=len(test_set)\n",
        ")"
      ],
      "execution_count": 69,
      "outputs": [
        {
          "output_type": "stream",
          "text": [
            "Epoch 1/20\n",
            "61/61 [==============================] - 39s 583ms/step - loss: 2.1209 - accuracy: 0.7483 - val_loss: 0.7274 - val_accuracy: 0.8396\n",
            "Epoch 2/20\n",
            "61/61 [==============================] - 33s 549ms/step - loss: 0.6442 - accuracy: 0.8872 - val_loss: 0.4076 - val_accuracy: 0.8774\n",
            "Epoch 3/20\n",
            "61/61 [==============================] - 34s 551ms/step - loss: 0.6554 - accuracy: 0.8929 - val_loss: 0.2161 - val_accuracy: 0.9340\n",
            "Epoch 4/20\n",
            "61/61 [==============================] - 33s 547ms/step - loss: 0.9071 - accuracy: 0.8883 - val_loss: 0.5485 - val_accuracy: 0.9245\n",
            "Epoch 5/20\n",
            "61/61 [==============================] - 33s 548ms/step - loss: 0.6104 - accuracy: 0.9113 - val_loss: 0.3116 - val_accuracy: 0.9623\n",
            "Epoch 6/20\n",
            "61/61 [==============================] - 33s 546ms/step - loss: 1.4079 - accuracy: 0.8775 - val_loss: 0.1421 - val_accuracy: 0.9623\n",
            "Epoch 7/20\n",
            "61/61 [==============================] - 34s 550ms/step - loss: 0.6463 - accuracy: 0.9293 - val_loss: 1.0386 - val_accuracy: 0.8774\n",
            "Epoch 8/20\n",
            "61/61 [==============================] - 33s 544ms/step - loss: 0.7487 - accuracy: 0.9303 - val_loss: 0.1055 - val_accuracy: 0.9623\n",
            "Epoch 9/20\n",
            "61/61 [==============================] - 33s 545ms/step - loss: 0.3994 - accuracy: 0.9462 - val_loss: 1.6619 - val_accuracy: 0.8679\n",
            "Epoch 10/20\n",
            "61/61 [==============================] - 34s 550ms/step - loss: 0.5390 - accuracy: 0.9436 - val_loss: 0.1927 - val_accuracy: 0.9811\n",
            "Epoch 11/20\n",
            "61/61 [==============================] - 34s 551ms/step - loss: 0.2201 - accuracy: 0.9672 - val_loss: 0.4058 - val_accuracy: 0.9528\n",
            "Epoch 12/20\n",
            "61/61 [==============================] - 33s 548ms/step - loss: 0.3452 - accuracy: 0.9539 - val_loss: 0.4170 - val_accuracy: 0.9340\n",
            "Epoch 13/20\n",
            "61/61 [==============================] - 33s 539ms/step - loss: 0.3031 - accuracy: 0.9590 - val_loss: 0.4650 - val_accuracy: 0.9623\n",
            "Epoch 14/20\n",
            "61/61 [==============================] - 33s 544ms/step - loss: 0.3150 - accuracy: 0.9626 - val_loss: 0.4728 - val_accuracy: 0.9528\n",
            "Epoch 15/20\n",
            "61/61 [==============================] - 33s 544ms/step - loss: 0.3855 - accuracy: 0.9544 - val_loss: 0.0633 - val_accuracy: 0.9906\n",
            "Epoch 16/20\n",
            "61/61 [==============================] - 33s 543ms/step - loss: 0.3814 - accuracy: 0.9575 - val_loss: 0.0689 - val_accuracy: 0.9811\n",
            "Epoch 17/20\n",
            "61/61 [==============================] - 33s 546ms/step - loss: 0.3502 - accuracy: 0.9636 - val_loss: 0.5542 - val_accuracy: 0.9717\n",
            "Epoch 18/20\n",
            "61/61 [==============================] - 33s 542ms/step - loss: 0.3548 - accuracy: 0.9595 - val_loss: 0.4271 - val_accuracy: 0.9528\n",
            "Epoch 19/20\n",
            "61/61 [==============================] - 33s 544ms/step - loss: 0.2965 - accuracy: 0.9636 - val_loss: 0.4886 - val_accuracy: 0.9245\n",
            "Epoch 20/20\n",
            "61/61 [==============================] - 33s 543ms/step - loss: 0.4806 - accuracy: 0.9518 - val_loss: 0.4748 - val_accuracy: 0.9528\n"
          ],
          "name": "stdout"
        }
      ]
    },
    {
      "cell_type": "code",
      "metadata": {
        "id": "tuJ-Dhee6r59"
      },
      "source": [
        "import matplotlib.pyplot as plt"
      ],
      "execution_count": 22,
      "outputs": []
    },
    {
      "cell_type": "code",
      "metadata": {
        "id": "jlBfaMzx6r5-",
        "colab": {
          "base_uri": "https://localhost:8080/",
          "height": 531
        },
        "outputId": "db0b2a35-36fa-4991-c5df-eb58b0e393d1"
      },
      "source": [
        "# plot the loss\n",
        "plt.plot(history.history['loss'], label='train loss')\n",
        "plt.plot(history.history['val_loss'], label='val loss')\n",
        "plt.legend()\n",
        "plt.show()\n",
        "plt.savefig('LossVal_loss')\n",
        "\n",
        "# plot the accuracy\n",
        "plt.plot(history.history['accuracy'], label='train acc')\n",
        "plt.plot(history.history['val_accuracy'], label='val acc')\n",
        "plt.legend()\n",
        "plt.show()\n",
        "plt.savefig('AccVal_acc')"
      ],
      "execution_count": 23,
      "outputs": [
        {
          "output_type": "display_data",
          "data": {
            "image/png": "[encoded data removed]",
            "text/plain": [
              "<Figure size 432x288 with 1 Axes>"
            ]
          },
          "metadata": {
            "tags": [],
            "needs_background": "light"
          }
        },
        {
          "output_type": "display_data",
          "data": {
            "image/png": "[encoded data removed]",
            "text/plain": [
              "<Figure size 432x288 with 1 Axes>"
            ]
          },
          "metadata": {
            "tags": [],
            "needs_background": "light"
          }
        },
        {
          "output_type": "display_data",
          "data": {
            "text/plain": [
              "<Figure size 432x288 with 0 Axes>"
            ]
          },
          "metadata": {
            "tags": []
          }
        }
      ]
    },
    {
      "cell_type": "code",
      "metadata": {
        "colab": {
          "base_uri": "https://localhost:8080/",
          "height": 531
        },
        "id": "82n4PdkQBtWj",
        "outputId": "d3ad6271-92b6-4f28-8db3-25c49d87b7d6"
      },
      "source": [
        "# plot the loss\n",
        "plt.plot(r.history['loss'], label='train loss')\n",
        "plt.plot(r.history['val_loss'], label='val loss')\n",
        "plt.legend()\n",
        "plt.show()\n",
        "plt.savefig('LossVal_loss')\n",
        "\n",
        "# plot the accuracy\n",
        "plt.plot(r.history['accuracy'], label='train acc')\n",
        "plt.plot(r.history['val_accuracy'], label='val acc')\n",
        "plt.legend()\n",
        "plt.show()\n",
        "plt.savefig('AccVal_acc')"
      ],
      "execution_count": 71,
      "outputs": [
        {
          "output_type": "display_data",
          "data": {
            "image/png": "[encoded data removed]",
            "text/plain": [
              "<Figure size 432x288 with 1 Axes>"
            ]
          },
          "metadata": {
            "tags": [],
            "needs_background": "light"
          }
        },
        {
          "output_type": "display_data",
          "data": {
            "image/png": "[encoded data removed]",
            "text/plain": [
              "<Figure size 432x288 with 1 Axes>"
            ]
          },
          "metadata": {
            "tags": [],
            "needs_background": "light"
          }
        },
        {
          "output_type": "display_data",
          "data": {
            "text/plain": [
              "<Figure size 432x288 with 0 Axes>"
            ]
          },
          "metadata": {
            "tags": []
          }
        }
      ]
    },
    {
      "cell_type": "code",
      "metadata": {
        "id": "0gb1AZpg6r5_"
      },
      "source": [
        "# save it as a h5 file\n",
        "\n",
        "\n",
        "from tensorflow.keras.models import load_model\n",
        "\n",
        "model.save('model_inception.h5')"
      ],
      "execution_count": 39,
      "outputs": []
    },
    {
      "cell_type": "code",
      "metadata": {
        "id": "NmeSxO9PujsS",
        "colab": {
          "base_uri": "https://localhost:8080/"
        },
        "outputId": "3d3ffd30-8bd6-4c9e-cccb-e539b506004b"
      },
      "source": [
        "import tensorflow as tf\n",
        "model = tf.keras.models.load_model('model_inception.h5')\n",
        "converter = tf.lite.TFLiteConverter.from_keras_model(model)\n",
        "tflite_model = converter.convert()\n",
        "open(\"converted_model.tflite\", \"wb\").write(tflite_model)"
      ],
      "execution_count": 40,
      "outputs": [
        {
          "output_type": "stream",
          "text": [
            "INFO:tensorflow:Assets written to: /tmp/tmp8ss64k1e/assets\n"
          ],
          "name": "stdout"
        },
        {
          "output_type": "execute_result",
          "data": {
            "text/plain": [
              "87948296"
            ]
          },
          "metadata": {
            "tags": []
          },
          "execution_count": 40
        }
      ]
    },
    {
      "cell_type": "code",
      "metadata": {
        "id": "4U69s6f26r6A",
        "colab": {
          "resources": {
            "http://localhost:8080/nbextensions/google.colab/files.js": {
              "data": "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",
              "ok": true,
              "headers": [
                [
                  "content-type",
                  "application/javascript"
                ]
              ],
              "status": 200,
              "status_text": ""
            }
          },
          "base_uri": "https://localhost:8080/",
          "height": 242
        },
        "outputId": "54e7a6e8-623f-4858-f5a5-04edb107d778"
      },
      "source": [
        "import numpy as np\n",
        "\n",
        "from google.colab import files\n",
        "from keras.preprocessing import image\n",
        "from tensorflow.keras.applications.inception_v3 import preprocess_input\n",
        "\n",
        "uploaded=files.upload()\n",
        "\n",
        "for fn in uploaded.keys():\n",
        " \n",
        "  # predicting images\n",
        "  path='/content/' + fn\n",
        "  img=image.load_img(path, target_size=(224, 224))\n",
        "  \n",
        "  x=image.img_to_array(img)\n",
        "  x=x/255         \n",
        "  x=np.expand_dims(x, axis=0)\n",
        "  #images = np.vstack([x])\n",
        "  x = preprocess_input(x)\n",
        "  classes = model.predict(x, batch_size=10)\n",
        "  \n",
        "  print(classes)"
      ],
      "execution_count": 24,
      "outputs": [
        {
          "output_type": "display_data",
          "data": {
            "text/html": [
              "\n",
              "     <input type=\"file\" id=\"files-3c9f164c-c361-4845-9960-110987187bfb\" name=\"files[]\" multiple disabled\n",
              "        style=\"border:none\" />\n",
              "     <output id=\"result-3c9f164c-c361-4845-9960-110987187bfb\">\n",
              "      Upload widget is only available when the cell has been executed in the\n",
              "      current browser session. Please rerun this cell to enable.\n",
              "      </output>\n",
              "      <script src=\"/nbextensions/google.colab/files.js\"></script> "
            ],
            "text/plain": [
              "<IPython.core.display.HTML object>"
            ]
          },
          "metadata": {
            "tags": []
          }
        },
        {
          "output_type": "stream",
          "text": [
            "Saving d (95)_iaip (1).jpg to d (95)_iaip (1) (2).jpg\n",
            "Saving d (83)_iaip (1).jpg to d (83)_iaip (1) (2).jpg\n",
            "Saving dis_leaf (61)_iaip.jpg to dis_leaf (61)_iaip (2).jpg\n",
            "Saving dis_leaf (19)_iaip.jpg to dis_leaf (19)_iaip (2).jpg\n",
            "[[0.36270306 0.2998887  0.11458426 0.22282395]]\n",
            "[[0.43722343 0.18476345 0.13280827 0.24520487]]\n",
            "[[0.37142736 0.28508192 0.13599443 0.20749637]]\n",
            "[[0.45511922 0.24227911 0.09619898 0.20640276]]\n"
          ],
          "name": "stdout"
        }
      ]
    },
    {
      "cell_type": "code",
      "metadata": {
        "id": "CEwGyS9h6r6A"
      },
      "source": [
        "\n",
        "y_pred = model.predict(test_set)\n"
      ],
      "execution_count": 43,
      "outputs": []
    },
    {
      "cell_type": "code",
      "metadata": {
        "id": "qPliM_M26r6B",
        "colab": {
          "base_uri": "https://localhost:8080/"
        },
        "outputId": "36a19338-5bb5-4b7f-fe97-1070cb7842df"
      },
      "source": [
        "y_pred"
      ],
      "execution_count": 44,
      "outputs": [
        {
          "output_type": "execute_result",
          "data": {
            "text/plain": [
              "array([[2.75549618e-11, 2.98268999e-25, 1.00000000e+00, 6.20520879e-09],\n",
              "       [1.26600441e-09, 7.21061635e-32, 1.00000000e+00, 9.21034924e-18],\n",
              "       [1.50026625e-03, 8.29534737e-13, 9.98499751e-01, 1.63079666e-15],\n",
              "       [1.27109549e-16, 1.00000000e+00, 1.47905661e-20, 2.12719802e-13],\n",
              "       [3.31734553e-12, 3.51745548e-08, 2.10060691e-10, 1.00000000e+00],\n",
              "       [7.02324730e-18, 2.71154800e-03, 1.20753971e-21, 9.97288465e-01],\n",
              "       [3.23519460e-03, 9.00279701e-01, 9.64851007e-02, 7.17292836e-10],\n",
              "       [2.27927144e-09, 1.50186461e-05, 2.48867316e-10, 9.99984980e-01],\n",
              "       [9.99999881e-01, 1.63368966e-07, 1.04726307e-16, 5.27622964e-15],\n",
              "       [5.01552341e-11, 9.99979258e-01, 2.25000072e-15, 2.07127887e-05],\n",
              "       [5.13117414e-14, 5.69506446e-25, 1.00000000e+00, 2.78991296e-19],\n",
              "       [1.19846270e-19, 1.00000000e+00, 1.71300560e-31, 6.65607826e-23],\n",
              "       [3.31217948e-20, 1.00000000e+00, 5.23521115e-22, 9.96844621e-12],\n",
              "       [1.00000000e+00, 8.71395193e-21, 2.07389471e-13, 2.87807278e-12],\n",
              "       [1.71339153e-23, 1.00000000e+00, 7.41663296e-26, 3.48004942e-17],\n",
              "       [9.99994516e-01, 9.98913225e-28, 5.45423882e-06, 2.31677021e-11],\n",
              "       [4.03944432e-05, 4.17447183e-07, 9.99959111e-01, 1.08771509e-07],\n",
              "       [6.73490632e-08, 5.18965498e-05, 9.91706491e-01, 8.24147835e-03],\n",
              "       [9.83420227e-14, 1.00000000e+00, 1.52476783e-12, 2.40568347e-08],\n",
              "       [8.61560909e-12, 1.00000000e+00, 1.67914597e-12, 5.47220687e-08],\n",
              "       [1.27516229e-13, 8.97197288e-14, 4.04351187e-04, 9.99595702e-01],\n",
              "       [1.00000000e+00, 4.85515480e-28, 2.16199915e-17, 2.48154391e-25],\n",
              "       [7.29413925e-24, 1.00000000e+00, 3.29271754e-19, 9.58247844e-17],\n",
              "       [2.84773097e-18, 1.33543308e-14, 6.58055208e-12, 1.00000000e+00],\n",
              "       [2.77418279e-13, 4.85969446e-13, 1.00000000e+00, 3.19668805e-11],\n",
              "       [1.16049791e-12, 6.24209846e-18, 1.00000000e+00, 1.63307342e-14],\n",
              "       [1.13551198e-21, 4.19295432e-10, 1.27686475e-30, 1.00000000e+00],\n",
              "       [1.00000000e+00, 1.63946706e-19, 8.80341400e-09, 6.88332662e-26],\n",
              "       [1.00000000e+00, 2.71149873e-11, 1.04007639e-17, 2.66279772e-12],\n",
              "       [9.99882936e-01, 2.66328682e-17, 1.17014366e-04, 8.08399669e-16],\n",
              "       [8.38449709e-12, 1.00000000e+00, 4.33787595e-14, 2.51997125e-08],\n",
              "       [1.77922410e-09, 6.18191913e-12, 9.99998689e-01, 1.35218136e-06],\n",
              "       [1.00000000e+00, 6.84702916e-26, 1.97359113e-16, 1.87374176e-30],\n",
              "       [2.01187933e-09, 1.82835091e-19, 1.00000000e+00, 8.06237997e-13],\n",
              "       [6.56830840e-11, 4.22204733e-01, 5.62253799e-10, 5.77795267e-01],\n",
              "       [1.00000000e+00, 7.51400381e-32, 2.13219251e-11, 2.10015483e-17],\n",
              "       [7.92735344e-13, 8.81002050e-19, 1.00000000e+00, 8.26136039e-19],\n",
              "       [1.27228035e-03, 3.78191995e-15, 9.98727739e-01, 5.51747203e-10],\n",
              "       [3.33154814e-24, 1.00000000e+00, 7.89262846e-23, 1.71738842e-17],\n",
              "       [1.00000000e+00, 1.15786575e-25, 2.87259776e-17, 3.65503060e-30],\n",
              "       [5.78164202e-16, 5.98566945e-14, 5.68052116e-12, 1.00000000e+00],\n",
              "       [1.00000000e+00, 8.75023498e-19, 3.33167799e-11, 3.87928484e-17],\n",
              "       [7.52607747e-14, 1.00000000e+00, 1.48052581e-18, 1.22311888e-16],\n",
              "       [4.22106803e-19, 5.93669542e-19, 3.76829519e-21, 1.00000000e+00],\n",
              "       [9.93078887e-01, 2.13253271e-15, 6.92106877e-03, 3.29698387e-11],\n",
              "       [2.79729084e-09, 1.00000000e+00, 1.71736262e-24, 9.80188478e-13],\n",
              "       [1.69760044e-17, 1.00000000e+00, 1.99951474e-17, 1.36552324e-17],\n",
              "       [1.88220739e-02, 7.45088255e-05, 9.81103420e-01, 9.83672020e-13],\n",
              "       [1.83139404e-04, 1.03486705e-19, 9.99816835e-01, 1.24348487e-16],\n",
              "       [9.99994040e-01, 2.54565275e-26, 5.96085556e-06, 4.85315054e-18],\n",
              "       [2.89726090e-02, 5.30003819e-12, 9.71027434e-01, 4.22317792e-10],\n",
              "       [1.56872865e-12, 1.93711411e-08, 2.97709346e-20, 1.00000000e+00],\n",
              "       [1.76636533e-30, 1.00000000e+00, 2.57866609e-32, 2.52774732e-18],\n",
              "       [5.41118261e-10, 1.00000000e+00, 1.36177303e-09, 1.61741653e-17],\n",
              "       [5.15449755e-02, 1.38461187e-01, 2.02676639e-10, 8.09993863e-01],\n",
              "       [5.67941365e-13, 1.17466172e-30, 1.00000000e+00, 2.50113336e-23],\n",
              "       [4.86951787e-14, 1.52000124e-18, 1.00000000e+00, 9.40225241e-12],\n",
              "       [1.00000000e+00, 9.34265658e-26, 1.64450735e-14, 1.16428599e-21],\n",
              "       [1.45055301e-10, 7.46868337e-16, 9.99999881e-01, 1.77169341e-07],\n",
              "       [2.29687666e-12, 1.00000000e+00, 6.84618877e-20, 4.89367737e-15],\n",
              "       [1.00000000e+00, 2.42135969e-18, 6.41778547e-16, 5.95878202e-23],\n",
              "       [8.18712916e-03, 5.95631278e-09, 9.84858811e-01, 6.95395702e-03],\n",
              "       [1.00000000e+00, 1.47867638e-23, 3.45771941e-13, 4.26371381e-25],\n",
              "       [2.77558641e-16, 1.00092643e-17, 1.49766365e-18, 1.00000000e+00],\n",
              "       [1.00000000e+00, 1.14503413e-20, 6.61651026e-23, 1.04344367e-22],\n",
              "       [1.47394577e-08, 5.38653317e-24, 1.00000000e+00, 3.55938785e-11],\n",
              "       [9.99498297e-04, 8.29889088e-24, 9.99000490e-01, 7.79740310e-22],\n",
              "       [6.67576679e-21, 7.57103798e-15, 2.45642321e-19, 1.00000000e+00],\n",
              "       [3.72987319e-18, 2.02900088e-13, 1.21476767e-16, 1.00000000e+00],\n",
              "       [5.09183226e-15, 7.13313740e-13, 3.63970539e-05, 9.99963641e-01],\n",
              "       [5.44085738e-20, 1.45916113e-10, 3.66741782e-23, 1.00000000e+00],\n",
              "       [1.20648055e-12, 1.00000000e+00, 2.42705758e-13, 8.18996072e-15],\n",
              "       [4.14891572e-24, 1.00000000e+00, 2.54097155e-34, 1.50436016e-14],\n",
              "       [2.77222131e-16, 1.00000000e+00, 3.07739511e-17, 1.22640188e-11],\n",
              "       [4.27195666e-08, 8.81552551e-21, 1.00000000e+00, 3.26164931e-13],\n",
              "       [3.44398408e-16, 1.00000000e+00, 9.26397515e-19, 1.50156336e-20],\n",
              "       [8.40076350e-15, 1.00000000e+00, 3.07704438e-16, 1.22665638e-08],\n",
              "       [1.00000000e+00, 1.32250019e-26, 1.38625371e-26, 1.43753861e-26],\n",
              "       [1.20865896e-13, 6.81430908e-24, 1.00000000e+00, 7.11354031e-11],\n",
              "       [1.00000000e+00, 1.23277628e-26, 9.48924228e-18, 1.67779629e-18],\n",
              "       [1.00000000e+00, 5.17877143e-18, 5.94693350e-10, 3.19566639e-13],\n",
              "       [2.65655361e-19, 3.20515402e-12, 1.22085339e-31, 1.00000000e+00],\n",
              "       [7.35777795e-15, 3.55617451e-28, 1.00000000e+00, 1.45218920e-14],\n",
              "       [3.33681786e-14, 5.11420706e-16, 2.78434129e-08, 1.00000000e+00],\n",
              "       [1.00000000e+00, 1.41515592e-24, 6.41886683e-11, 2.33527526e-14],\n",
              "       [9.99999523e-01, 4.69473122e-07, 1.81733074e-13, 3.03803207e-14],\n",
              "       [3.75159459e-09, 1.59282519e-19, 1.00000000e+00, 4.99255845e-11],\n",
              "       [6.13153617e-09, 1.00000000e+00, 9.01994521e-11, 6.11115510e-15],\n",
              "       [2.39977962e-04, 2.13257337e-15, 3.70823909e-05, 9.99722898e-01],\n",
              "       [6.00053427e-13, 3.02223816e-05, 9.03464152e-13, 9.99969721e-01],\n",
              "       [5.89805096e-02, 9.38365579e-01, 1.67914700e-15, 2.65389401e-03],\n",
              "       [1.54463851e-06, 5.77561260e-17, 9.99998450e-01, 2.09699467e-12],\n",
              "       [1.89781008e-06, 2.42165643e-05, 9.99895573e-01, 7.83067007e-05],\n",
              "       [1.02509146e-09, 1.68219536e-08, 1.57280567e-06, 9.99998450e-01],\n",
              "       [5.89647567e-11, 8.00648081e-08, 8.62771521e-11, 9.99999881e-01],\n",
              "       [4.03944432e-05, 4.17447183e-07, 9.99959111e-01, 1.08771509e-07],\n",
              "       [9.88125475e-27, 1.00000000e+00, 4.50090654e-25, 4.59447975e-17],\n",
              "       [1.82266689e-07, 9.99997854e-01, 1.84881583e-06, 4.82941086e-14],\n",
              "       [1.00000000e+00, 2.70780475e-25, 3.04942681e-12, 3.56523174e-22],\n",
              "       [7.26233873e-12, 8.81697631e-20, 5.85644535e-17, 1.00000000e+00],\n",
              "       [1.00000000e+00, 1.72743384e-18, 8.46913463e-16, 2.04988541e-17],\n",
              "       [3.25627010e-18, 1.00000000e+00, 1.53790319e-15, 3.69072342e-11],\n",
              "       [9.91525772e-23, 1.00000000e+00, 2.32621590e-36, 1.84096418e-32],\n",
              "       [2.84946644e-09, 1.02655810e-21, 1.00000000e+00, 3.35130054e-19],\n",
              "       [2.67962992e-17, 5.15478910e-24, 1.00000000e+00, 5.32297245e-29],\n",
              "       [3.04455483e-07, 2.55524357e-09, 9.52896808e-05, 9.99904394e-01]],\n",
              "      dtype=float32)"
            ]
          },
          "metadata": {
            "tags": []
          },
          "execution_count": 44
        }
      ]
    },
    {
      "cell_type": "code",
      "metadata": {
        "id": "91eWnLOVbOZb"
      },
      "source": [
        ""
      ],
      "execution_count": null,
      "outputs": []
    },
    {
      "cell_type": "code",
      "metadata": {
        "id": "WtDwT9Kg6r6C"
      },
      "source": [
        "import numpy as np\n",
        "y_pred = np.argmax(y_pred, axis=1)"
      ],
      "execution_count": 45,
      "outputs": []
    },
    {
      "cell_type": "code",
      "metadata": {
        "id": "a34i0oZN6r6D",
        "colab": {
          "base_uri": "https://localhost:8080/"
        },
        "outputId": "d409efb9-f498-42e4-ba30-8e15d5e7812e"
      },
      "source": [
        "y_pred"
      ],
      "execution_count": 46,
      "outputs": [
        {
          "output_type": "execute_result",
          "data": {
            "text/plain": [
              "array([2, 2, 2, 1, 3, 3, 1, 3, 0, 1, 2, 1, 1, 0, 1, 0, 2, 2, 1, 1, 3, 0,\n",
              "       1, 3, 2, 2, 3, 0, 0, 0, 1, 2, 0, 2, 3, 0, 2, 2, 1, 0, 3, 0, 1, 3,\n",
              "       0, 1, 1, 2, 2, 0, 2, 3, 1, 1, 3, 2, 2, 0, 2, 1, 0, 2, 0, 3, 0, 2,\n",
              "       2, 3, 3, 3, 3, 1, 1, 1, 2, 1, 1, 0, 2, 0, 0, 3, 2, 3, 0, 0, 2, 1,\n",
              "       3, 3, 1, 2, 2, 3, 3, 2, 1, 1, 0, 3, 0, 1, 1, 2, 2, 3])"
            ]
          },
          "metadata": {
            "tags": []
          },
          "execution_count": 46
        }
      ]
    },
    {
      "cell_type": "code",
      "metadata": {
        "id": "bw-BYV4F6r6D"
      },
      "source": [
        ""
      ],
      "execution_count": null,
      "outputs": []
    },
    {
      "cell_type": "code",
      "metadata": {
        "id": "j4cFryuh6r6D"
      },
      "source": [
        "from tensorflow.keras.models import load_model\n",
        "from tensorflow.keras.preprocessing import image"
      ],
      "execution_count": null,
      "outputs": []
    },
    {
      "cell_type": "code",
      "metadata": {
        "id": "eu4pJGTE6r6E",
        "outputId": "4d9b05b4-eccd-48ce-f5db-6398ace180de"
      },
      "source": [
        "img_data"
      ],
      "execution_count": null,
      "outputs": [
        {
          "output_type": "execute_result",
          "data": {
            "text/plain": [
              "array([[[[ 6.7060997e+01,  5.4221001e+01,  4.7320000e+01],\n",
              "         [ 6.9060997e+01,  5.6221001e+01,  4.9320000e+01],\n",
              "         [ 7.3060997e+01,  6.0221001e+01,  5.3320000e+01],\n",
              "         ...,\n",
              "         [ 7.4060997e+01,  5.6221001e+01,  4.6320000e+01],\n",
              "         [ 5.5060997e+01,  3.7221001e+01,  2.7320000e+01],\n",
              "         [ 4.1060997e+01,  2.3221001e+01,  1.3320000e+01]],\n",
              "\n",
              "        [[ 7.5060997e+01,  6.2221001e+01,  5.5320000e+01],\n",
              "         [ 7.8060997e+01,  6.5221001e+01,  5.8320000e+01],\n",
              "         [ 8.1060997e+01,  6.8221001e+01,  6.1320000e+01],\n",
              "         ...,\n",
              "         [ 9.7060997e+01,  7.9221001e+01,  6.9320000e+01],\n",
              "         [ 7.3060997e+01,  5.5221001e+01,  4.5320000e+01],\n",
              "         [ 4.9060997e+01,  3.1221001e+01,  2.1320000e+01]],\n",
              "\n",
              "        [[ 8.7060997e+01,  7.4221001e+01,  6.7320000e+01],\n",
              "         [ 9.0060997e+01,  7.7221001e+01,  7.0320000e+01],\n",
              "         [ 9.3060997e+01,  8.0221001e+01,  7.3320000e+01],\n",
              "         ...,\n",
              "         [ 1.0106100e+02,  8.3221001e+01,  7.3320000e+01],\n",
              "         [ 7.5060997e+01,  5.7221001e+01,  4.7320000e+01],\n",
              "         [ 5.0060997e+01,  3.2221001e+01,  2.2320000e+01]],\n",
              "\n",
              "        ...,\n",
              "\n",
              "        [[ 1.0406100e+02,  8.9221001e+01,  9.4320000e+01],\n",
              "         [ 1.0206100e+02,  8.7221001e+01,  9.2320000e+01],\n",
              "         [ 9.9060997e+01,  8.4221001e+01,  8.9320000e+01],\n",
              "         ...,\n",
              "         [-1.0939003e+01, -1.6778999e+01, -1.4680000e+01],\n",
              "         [-1.0939003e+01, -1.6778999e+01, -1.4680000e+01],\n",
              "         [-1.0939003e+01, -1.6778999e+01, -1.4680000e+01]],\n",
              "\n",
              "        [[ 1.0606100e+02,  9.1221001e+01,  9.6320000e+01],\n",
              "         [ 1.0406100e+02,  8.9221001e+01,  9.4320000e+01],\n",
              "         [ 1.0006100e+02,  8.5221001e+01,  9.0320000e+01],\n",
              "         ...,\n",
              "         [-5.9390030e+00, -1.1778999e+01, -9.6800003e+00],\n",
              "         [-5.9390030e+00, -1.1778999e+01, -9.6800003e+00],\n",
              "         [-5.9390030e+00, -1.1778999e+01, -9.6800003e+00]],\n",
              "\n",
              "        [[ 1.0806100e+02,  9.4221001e+01,  9.6320000e+01],\n",
              "         [ 1.0606100e+02,  9.2221001e+01,  9.4320000e+01],\n",
              "         [ 1.0206100e+02,  8.8221001e+01,  9.0320000e+01],\n",
              "         ...,\n",
              "         [ 6.0997009e-02, -5.7789993e+00, -3.6800003e+00],\n",
              "         [ 6.0997009e-02, -5.7789993e+00, -3.6800003e+00],\n",
              "         [ 6.0997009e-02, -5.7789993e+00, -3.6800003e+00]]]],\n",
              "      dtype=float32)"
            ]
          },
          "metadata": {
            "tags": []
          },
          "execution_count": 39
        }
      ]
    },
    {
      "cell_type": "code",
      "metadata": {
        "id": "zdEya-f86r6E"
      },
      "source": [
        "img=image.load_img('/content/dis_leaf (61)_iaip.jpg',target_size=(224,224))\n",
        "\n"
      ],
      "execution_count": 48,
      "outputs": []
    },
    {
      "cell_type": "code",
      "metadata": {
        "id": "X19cVi6p6r6E",
        "colab": {
          "base_uri": "https://localhost:8080/"
        },
        "outputId": "b1f274ac-a830-4869-e0bb-029d1a19f242"
      },
      "source": [
        "x=image.img_to_array(img)\n",
        "x"
      ],
      "execution_count": 49,
      "outputs": [
        {
          "output_type": "execute_result",
          "data": {
            "text/plain": [
              "array([[[131., 158., 105.],\n",
              "        [105., 123.,  85.],\n",
              "        [ 69.,  77.,  53.],\n",
              "        ...,\n",
              "        [ 97., 185.,  63.],\n",
              "        [114., 195.,  90.],\n",
              "        [132., 213., 108.]],\n",
              "\n",
              "       [[170., 188., 150.],\n",
              "        [ 84.,  97.,  71.],\n",
              "        [ 58.,  62.,  48.],\n",
              "        ...,\n",
              "        [ 88., 176.,  53.],\n",
              "        [102., 184.,  76.],\n",
              "        [123., 205.,  97.]],\n",
              "\n",
              "       [[193., 201., 177.],\n",
              "        [164., 168., 154.],\n",
              "        [ 57.,  56.,  54.],\n",
              "        ...,\n",
              "        [ 74., 163.,  35.],\n",
              "        [ 85., 167.,  56.],\n",
              "        [109., 191.,  80.]],\n",
              "\n",
              "       ...,\n",
              "\n",
              "       [[ 83.,  73.,  61.],\n",
              "        [ 92.,  83.,  68.],\n",
              "        [ 89.,  80.,  63.],\n",
              "        ...,\n",
              "        [ 69.,  64.,  61.],\n",
              "        [ 98.,  90.,  69.],\n",
              "        [121., 113.,  92.]],\n",
              "\n",
              "       [[ 80.,  70.,  58.],\n",
              "        [ 81.,  72.,  57.],\n",
              "        [103.,  94.,  77.],\n",
              "        ...,\n",
              "        [ 73.,  70.,  53.],\n",
              "        [ 93.,  83.,  71.],\n",
              "        [122., 112., 100.]],\n",
              "\n",
              "       [[ 76.,  66.,  54.],\n",
              "        [ 85.,  76.,  61.],\n",
              "        [ 93.,  84.,  67.],\n",
              "        ...,\n",
              "        [ 66.,  63.,  46.],\n",
              "        [ 81.,  71.,  59.],\n",
              "        [ 76.,  66.,  54.]]], dtype=float32)"
            ]
          },
          "metadata": {
            "tags": []
          },
          "execution_count": 49
        }
      ]
    },
    {
      "cell_type": "code",
      "metadata": {
        "id": "c2rVD_Q86r6F",
        "colab": {
          "base_uri": "https://localhost:8080/"
        },
        "outputId": "389f57db-d4d5-4a7c-8f55-86a9d205c885"
      },
      "source": [
        "x.shape"
      ],
      "execution_count": 50,
      "outputs": [
        {
          "output_type": "execute_result",
          "data": {
            "text/plain": [
              "(224, 224, 3)"
            ]
          },
          "metadata": {
            "tags": []
          },
          "execution_count": 50
        }
      ]
    },
    {
      "cell_type": "code",
      "metadata": {
        "id": "4P8PD6Ry6r6F"
      },
      "source": [
        "x=x/255"
      ],
      "execution_count": 51,
      "outputs": []
    },
    {
      "cell_type": "code",
      "metadata": {
        "id": "4YUIx6uh6r6F",
        "colab": {
          "base_uri": "https://localhost:8080/"
        },
        "outputId": "9de8b2a2-7622-49cd-ccf6-047494cb43d0"
      },
      "source": [
        "import numpy as np\n",
        "x=np.expand_dims(x,axis=0)\n",
        "img_data=preprocess_input(x)\n",
        "img_data.shape"
      ],
      "execution_count": 52,
      "outputs": [
        {
          "output_type": "execute_result",
          "data": {
            "text/plain": [
              "(1, 224, 224, 3)"
            ]
          },
          "metadata": {
            "tags": []
          },
          "execution_count": 52
        }
      ]
    },
    {
      "cell_type": "code",
      "metadata": {
        "id": "8Ev5E-MF6r6G",
        "colab": {
          "base_uri": "https://localhost:8080/"
        },
        "outputId": "cbc77971-0086-4eb9-91b1-3f7ea2ea2d70"
      },
      "source": [
        "model.predict(img_data)"
      ],
      "execution_count": 53,
      "outputs": [
        {
          "output_type": "execute_result",
          "data": {
            "text/plain": [
              "array([[0.24024974, 0.39257535, 0.20836815, 0.15880679]], dtype=float32)"
            ]
          },
          "metadata": {
            "tags": []
          },
          "execution_count": 53
        }
      ]
    },
    {
      "cell_type": "code",
      "metadata": {
        "id": "suGI8f_Y6r6G"
      },
      "source": [
        "a=np.argmax(model.predict(img_data), axis=1)"
      ],
      "execution_count": 34,
      "outputs": []
    },
    {
      "cell_type": "code",
      "metadata": {
        "id": "TvBp1YLw6r6G",
        "colab": {
          "base_uri": "https://localhost:8080/"
        },
        "outputId": "e0ecdcde-54ec-4514-9e37-f09feca88505"
      },
      "source": [
        "a"
      ],
      "execution_count": 35,
      "outputs": [
        {
          "output_type": "execute_result",
          "data": {
            "text/plain": [
              "array([1])"
            ]
          },
          "metadata": {
            "tags": []
          },
          "execution_count": 35
        }
      ]
    },
    {
      "cell_type": "code",
      "metadata": {
        "id": "QhUvItO66r6H"
      },
      "source": [
        "import tensorflow as tf"
      ],
      "execution_count": null,
      "outputs": []
    }
  ]
}